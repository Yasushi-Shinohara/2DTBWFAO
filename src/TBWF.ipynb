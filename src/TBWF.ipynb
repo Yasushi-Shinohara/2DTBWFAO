{
 "cells": [
  {
   "cell_type": "code",
   "execution_count": 1,
   "metadata": {},
   "outputs": [],
   "source": [
    "%load_ext autoreload\n",
    "%autoreload 2"
   ]
  },
  {
   "cell_type": "code",
   "execution_count": 6,
   "metadata": {
    "executionInfo": {
     "elapsed": 7,
     "status": "ok",
     "timestamp": 1683535263015,
     "user": {
      "displayName": "Yasushi Shinohara",
      "userId": "05093475804502242028"
     },
     "user_tz": -540
    },
    "id": "bd2vC1AAFsgM"
   },
   "outputs": [],
   "source": [
    "%matplotlib inline\n",
    "from modules.constants import *\n",
    "from modules.SpatialGrid import SpatialGrid\n",
    "from modules.AtomicOrbital import AtomicOrbital\n",
    "import matplotlib.pyplot as plt"
   ]
  },
  {
   "cell_type": "code",
   "execution_count": 3,
   "metadata": {
    "colab": {
     "base_uri": "https://localhost:8080/"
    },
    "executionInfo": {
     "elapsed": 935,
     "status": "ok",
     "timestamp": 1683535263946,
     "user": {
      "displayName": "Yasushi Shinohara",
      "userId": "05093475804502242028"
     },
     "user_tz": -540
    },
    "id": "SnIMwbU_Mcob",
    "outputId": "e11f8b92-ed61-468a-efad-39853f9b21dc"
   },
   "outputs": [
    {
     "name": "stdout",
     "output_type": "stream",
     "text": [
      "Norm of the orbital: 0.9999151619443735, should be 1 in the infinite volume with fine spatial mecsh\n"
     ]
    }
   ],
   "source": [
    "Lx = 8.0; Ly = 8.0; Lz = 8.0\n",
    "Nx = 80; Ny = 80; Nz = 80\n",
    "r, dV, _ = SpatialGrid.get_rgrid(Nx, Ny, Nz, Lx, Ly, Lz)\n",
    "Rc = [0.0, 0.0, 0.0] #Center of the atom\n",
    "Z = 4.0 #The effective charge of the atom\n",
    "phi = AtomicOrbital.get_2pz(r, Rc, Z)\n",
    "print('Norm of the orbital: '+str(np.sum(phi*phi)*dV)+', should be 1 in the infinite volume with fine spatial mecsh')"
   ]
  },
  {
   "cell_type": "markdown",
   "metadata": {
    "id": "lsTtR-55mhVr"
   },
   "source": [
    "# The crystal\n",
    "## The primitive cell vector\n",
    "$$\n",
    "\\mathbf{a}_1 = a \\left(\\frac{\\sqrt{3}}{2} \\hat{x} - \\frac{1}{2} \\hat{y}\\right), \\quad\n",
    "\\mathbf{a}_2 = a \\left(\\frac{\\sqrt{3}}{2} \\hat{x} + \\frac{1}{2} \\hat{y}\\right)\n",
    "$$\n",
    "$\\mathbf{a}_1 \\cdot \\mathbf{a}_1 = \\mathbf{a}_2 \\cdot \\mathbf{a}_2  = a^2, \\mathbf{a}_1 \\cdot \\mathbf{a}_2 = \\frac{a^2}{2} $\n",
    "\n",
    "$$\n",
    "\\mathbf{R}_A = \\frac{1}{3} (\\mathbf{a}_1 + \\mathbf{a}_2) \n",
    "=\n",
    "\\frac{a}{\\sqrt{3}} \\hat{x}, \\quad\n",
    "\\mathbf{R}_B = \\frac{2}{3} (\\mathbf{a}_1 + \\mathbf{a}_2)\n",
    "=\n",
    "\\frac{2a}{\\sqrt{3}} \\hat{x}\n",
    "$$\n",
    "\n",
    "# Tight-binding wth the atomic orbitals for graphene\n",
    "\n",
    "$$\n",
    "\\phi_{\\mathbf{k}} (r)\n",
    " = \n",
    "c_A \\Phi_{A,\\mathbf{k}} (\\mathbf{r}) +  c_B \\Phi_{B,\\mathbf{k}} (\\mathbf{r}),\\\\\n",
    "\\Phi_{n,\\mathbf{k}} (\\mathbf{r})\n",
    "=\n",
    "\\frac{1}{\\sqrt{N_1 N_2}}\n",
    "\\sum_{n_1 = -N_1/2}^{N_1/2-1}\\sum_{n_2 = -N_2/2}^{N_2/2-1}e^{\\mathrm{i}\\mathbf{k}\\cdot(n_1 \\mathbf{a}_1+ n_2 \\mathbf{a}_2)} e^{\\mathrm{i}\\mathbf{k}\\cdot \\mathbf{R}_n} \\phi_{2pz} (\\mathbf{r} -\\mathbf{R}_n- (n_1 \\mathbf{a}_1+ n_2 \\mathbf{a}_2)  ),\n",
    "$$\n",
    "where the two-sites in honeycomb structure are labeled as A, and B.\n",
    "The $\\mathbf{R}_n$ refers the relative position of $n$-atom in the PRIMITIVE CELL, summation over differnt primitive cell is acounted for $n_1, n_2$.\n",
    "\n"
   ]
  },
  {
   "cell_type": "code",
   "execution_count": 8,
   "metadata": {},
   "outputs": [
    {
     "name": "stdout",
     "output_type": "stream",
     "text": [
      "[6.92820323 0.         0.        ]\n",
      "max, min =  0.5870506526949595 0.0\n",
      "The norm of 2pz orbital 0.9998614648412059 , should be close to 1 because isolated atom in a large honeycomb cell\n"
     ]
    }
   ],
   "source": [
    "# Check of nomarlization 2pz orbital\n",
    "## Generate spatial grids\n",
    "a = 8.0 #So large cell\n",
    "Lz = 8.0\n",
    "N1 = 80\n",
    "N2 = 80\n",
    "Nz = 80\n",
    "r, dV, V, a1, a2, b1, b2 = SpatialGrid.get_rgrid_Honeycomb(N1, N2, Nz, Lz, a=a)\n",
    "## Determine atomic position and the effective charge\n",
    "Rc = np.array([0.5*(np.sqrt(3.0)*a), 0.0, 0.0]) #Center of the lattice\n",
    "print(Rc)\n",
    "Z = 4.0\n",
    "## 2pz\n",
    "phi = AtomicOrbital.get_2pz(r, Rc, Z)\n",
    "print('max, min = ', np.amax(np.abs(phi)), np.amin(np.abs(phi)))\n",
    "print('The norm of 2pz orbital', np.sum(phi*phi)*dV, ', should be close to 1 because isolated atom in a large honeycomb cell')\n"
   ]
  },
  {
   "cell_type": "code",
   "execution_count": 77,
   "metadata": {},
   "outputs": [
    {
     "name": "stdout",
     "output_type": "stream",
     "text": [
      "[4.02571909 0.         0.        ]\n",
      "The norm of phink orbital 1.0543053843417938\n",
      "[0. 0. 0.]\n",
      "The norm of phink orbital 1.0543053843415422\n",
      "[-4.02571909  0.          0.        ]\n",
      "The norm of phink orbital 1.0543053843349006\n",
      "When these three norms with differnt atom poisitions show the same value, the code seems written well.\n"
     ]
    }
   ],
   "source": [
    "def get_phink(r, Rc, Z, k, phiAO, N1=10, N2=10):\n",
    "    #phink = (0.0+0.0j)*AtomicOrbital.get_2pz(r, Rc, Z)\n",
    "    phink = (0.0+0.0j)*get_phiAO(r, Rc, Z)\n",
    "    for i1 in range(-N1//2, N1//2):\n",
    "        for i2 in range(-N2//2, N2//2):\n",
    "            d = Rc[:2] + i1*a1 + i2*a2\n",
    "            ekx = np.exp(zI*d)\n",
    "            ekr = np.exp(zI*np.dot(k,d))\n",
    "            d3D = 1.0*Rc\n",
    "            d3D[:2] = 1.0*d\n",
    "            #phink = phink + AtomicOrbital.get_2pz(r, d3D, Z)\n",
    "            #phink = phink + get_phiAO(r, d3D, Z)\n",
    "            phink = phink + ekr*get_phiAO(r, d3D, Z)\n",
    "    phink = phink/np.sqrt(N1*N2)\n",
    "    return phink, N1, N2\n",
    "#\n",
    "a = 4.6485 #Lattice constant for graphene\n",
    "Lz = 8.0\n",
    "N1 = 80\n",
    "N2 = 80\n",
    "Nz = 80\n",
    "r, dV, V, a1, a2, b1, b2 = SpatialGrid.get_rgrid_Honeycomb(N1, N2, Nz, Lz, a=a)\n",
    "\n",
    "Rc = np.array([0.5*(np.sqrt(3.0)*a), 0.0, 0.0]) #The body center of the cell\n",
    "print(Rc)\n",
    "Z = 4.0\n",
    "k = np.array([0.0, 0.0]) #The Gamma point\n",
    "get_phiAO = AtomicOrbital.get_2pz\n",
    "phink, N1, N2 = get_phink(r, Rc, Z, k, get_phiAO)\n",
    "print('The norm of phink orbital', np.sum((np.abs(phink))**2)*dV*(N1*N2))\n",
    "\n",
    "Rc = np.array([0.0, 0.0, 0.0]) #The origin of the coordinate\n",
    "print(Rc)\n",
    "Z = 4.0\n",
    "k = np.array([0.0, 0.0]) #The Gamma point\n",
    "get_phiAO = AtomicOrbital.get_2pz\n",
    "phink, N1, N2 = get_phink(r, Rc, Z, k, get_phiAO)\n",
    "print('The norm of phink orbital', np.sum((np.abs(phink))**2)*dV*(N1*N2))\n",
    "\n",
    "Rc = np.array([-0.5*(np.sqrt(3.0)*a), 0.0, 0.0]) #Outside of the cell\n",
    "print(Rc)\n",
    "Z = 4.0\n",
    "k = np.array([0.0, 0.0]) #The Gamma point\n",
    "get_phiAO = AtomicOrbital.get_2pz\n",
    "phink, N1, N2 = get_phink(r, Rc, Z, k, get_phiAO)\n",
    "print('The norm of phink orbital', np.sum((np.abs(phink))**2)*dV*(N1*N2))\n",
    "\n",
    "print('When these three norms with differnt atom poisitions show the same value, the code seems written well.')"
   ]
  },
  {
   "cell_type": "code",
   "execution_count": 78,
   "metadata": {},
   "outputs": [
    {
     "name": "stdout",
     "output_type": "stream",
     "text": [
      "[2.68381273 0.         0.        ]\n",
      "The norm of phink orbital 6.588717034264397\n",
      "[5.36762545 0.         0.        ]\n",
      "The norm of phink orbital 6.589307534551072\n",
      "The overlap (2.5301869221251265+0j)\n"
     ]
    }
   ],
   "source": [
    "#\n",
    "a = 4.6485\n",
    "Z = 4.0\n",
    "#\n",
    "Lz = 8.0\n",
    "N1 = 80\n",
    "N2 = 80\n",
    "Nz = 80\n",
    "r, dV, V, a1, a2, b1, b2 = SpatialGrid.get_rgrid_Honeycomb(N1, N2, Nz, Lz, a=a)\n",
    "#\n",
    "k = np.array([0.0, 0.0])\n",
    "#\n",
    "RA = np.array([(np.sqrt(3.0)*a)/3.0, 0.0, 0.0])\n",
    "print(RA)\n",
    "get_phiAO = AtomicOrbital.get_2pz\n",
    "phink, N1, N2 = get_phink(r, Rc, Z, k, get_phiAO)\n",
    "print('The norm of phink orbital', np.sum((np.abs(phinkA))**2)*dV*(N1*N2))\n",
    "RB = np.array([2.0*(np.sqrt(3.0)*a)/3.0, 0.0, 0.0])\n",
    "print(RB)\n",
    "get_phiAO = AtomicOrbital.get_2pz\n",
    "phink, N1, N2 = get_phink(r, Rc, Z, k, get_phiAO)\n",
    "print('The norm of phink orbital', np.sum((np.abs(phinkB))**2)*dV*(N1*N2))\n",
    "#\n",
    "print('The overlap', np.sum(np.conjugate(phinkA)*phinkB)*dV*(N1*N2))"
   ]
  },
  {
   "cell_type": "code",
   "execution_count": 24,
   "metadata": {},
   "outputs": [
    {
     "name": "stdout",
     "output_type": "stream",
     "text": [
      "Gamma\n",
      "(0.9999999999999998+0j) (1+0j)\n",
      "-0.24108297222515124 0.545484636992308\n",
      "M\n",
      "(1.0000000000000004-2.3211666433381225e-18j) (1.0000000000000004+5.257341300373346e-18j)\n",
      "-0.09872514983061255 0.12796865001005922\n",
      "K\n",
      "(0.9999999999999998+9.025469129932658e-34j) (1-3.0814879110195774e-33j)\n",
      "-6.663938374035729e-17 6.66393837403573e-17\n",
      "Kprime\n",
      "(0.9999999999999998-2.1789409980263115e-33j) (1+0j)\n",
      "-6.459742800187834e-17 6.459742800187835e-17\n"
     ]
    }
   ],
   "source": [
    "#\n",
    "def k2fepscAcB(k, a1, a2, RA, RB, gamma, s):\n",
    "    term1 = np.exp(-zI*np.sum(k*(RA-RB)))\n",
    "    term2 = 1.0 + np.exp(-zI*np.sum(k*a1)) + np.exp(-zI*np.sum(k*a2))\n",
    "    #term2 = 1.0 + np.exp(zI*np.sum(k*a1)) + np.exp(zI*np.sum(k*a2))\n",
    "    f = term1*term2\n",
    "    fabs = np.abs(f)\n",
    "    epsplus = +gamma*fabs/(1.0 + s*fabs)\n",
    "    epsminus = -gamma*fabs/(1.0 - s*fabs)\n",
    "    cAplus = 1.0/np.sqrt(2.0*(1.0+s*fabs))\n",
    "    cBplus = (np.conj(f)/fabs)/np.sqrt(2.0*(1.0+s*fabs))\n",
    "    cAminus = 1.0/np.sqrt(2.0*(1.0-s*fabs))\n",
    "    cBminus = -(np.conj(f)/fabs)/np.sqrt(2.0*(1.0-s*fabs))\n",
    "    return f, epsplus, epsminus, cAplus, cBplus, cAminus, cBminus \n",
    "gamma = -3.033/Hartree2eV\n",
    "s = 0.129\n",
    "k_list = []\n",
    "kchar_list = []\n",
    "#Chceck for the norm\n",
    "## Gamma\n",
    "k = np.array([0.0, 0.0])\n",
    "k_list.append(k)\n",
    "kchar_list.append('Gamma')\n",
    "## M\n",
    "k = 0.5*b1 + 0.5*b2\n",
    "k_list.append(k)\n",
    "kchar_list.append('M')\n",
    "## K\n",
    "k = (1.0/3.0)*b1 + (2.0/3.0)*b2\n",
    "k_list.append(k)\n",
    "kchar_list.append('K')\n",
    "## K'\n",
    "k = (2.0/3.0)*b1 + (1.0/3.0)*b2\n",
    "k_list.append(k)\n",
    "kchar_list.append('Kprime')\n",
    "for ik in range(len(k_list)):\n",
    "    print(kchar_list[ik])\n",
    "    k = k_list[ik]\n",
    "    f, epsplus, epsminus,  cAplus, cBplus, cAminus, cBminus = k2fepscAcB(k, a1, a2, RA[:2], RB[:2], gamma, s)\n",
    "    plusnorm = np.conj(cAplus)*cAplus + s*f*np.conj(cAplus)*cBplus + s*np.conj(f)*np.conj(cBplus)*cAplus + np.conj(cBplus)*cBplus\n",
    "    minusnorm = np.conj(cAminus)*cAminus + s*f*np.conj(cAminus)*cBminus + + s*np.conj(f)*np.conj(cBminus)*cAminus + np.conj(cBminus)*cBminus\n",
    "    print(plusnorm, minusnorm)\n",
    "    print(epsplus, epsminus)\n",
    "\n"
   ]
  },
  {
   "cell_type": "code",
   "execution_count": 79,
   "metadata": {},
   "outputs": [
    {
     "data": {
      "image/png": "[encoded data removed]",
      "text/plain": [
       "<Figure size 432x288 with 2 Axes>"
      ]
     },
     "metadata": {
      "needs_background": "light"
     },
     "output_type": "display_data"
    },
    {
     "data": {
      "image/png": "[encoded data removed]",
      "text/plain": [
       "<Figure size 432x288 with 2 Axes>"
      ]
     },
     "metadata": {
      "needs_background": "light"
     },
     "output_type": "display_data"
    }
   ],
   "source": [
    "k_list = []\n",
    "epsplus_list = []\n",
    "epsminus_list = []\n",
    "f_list = []\n",
    "Z = 4.0\n",
    "gamma = -3.033/Hartree2eV\n",
    "s = 0.129\n",
    "N1k = 48\n",
    "N2k = 48\n",
    "for i1 in range(N1k):\n",
    "    for i2 in range(N2k):\n",
    "        k = (i1/N1k - 1/2)*b1 + (i2/N2k - 1/2)*b2 \n",
    "        #k = (i1/N1k)*b1 + (i2/N2k)*b2 \n",
    "        k_list.append(k)\n",
    "#\n",
    "for k in k_list:\n",
    "    #print(k)\n",
    "    f, epsplus, epsminus, cAplus, cBplus, cAminus, cBminus = k2fepscAcB(k, a1, a2, RA[:2], RB[:2], gamma, s)\n",
    "    f_list.append(f)\n",
    "    epsplus_list.append(epsplus)\n",
    "    epsminus_list.append(epsminus)\n",
    "k_array = np.array(k_list)\n",
    "f_array = np.array(f_list)\n",
    "epsplus_array = np.array(epsplus_list)\n",
    "epsminus_array = np.array(epsminus_list)\n",
    "plt.figure()\n",
    "plt.title('$|f|$')\n",
    "plt.scatter(k_array[:,0], k_array[:,1], s = 5000.0/(N1k*N2k), c=np.abs(f_array), cmap=plt.cm.jet)\n",
    "plt.grid()\n",
    "plt.colorbar()\n",
    "plt.axis('scaled')\n",
    "plt.show()\n",
    "#\n",
    "plt.figure()\n",
    "plt.title('$\\epsilon_+(k) - \\epsilon_-(k)$')\n",
    "plt.scatter(k_array[:,0], k_array[:,1], s = 5000.0/(N1k*N2k), c=(epsminus_array - epsplus_array), cmap=plt.cm.jet)\n",
    "plt.grid()\n",
    "plt.colorbar()\n",
    "plt.axis('scaled')\n",
    "plt.show()\n"
   ]
  },
  {
   "cell_type": "code",
   "execution_count": 80,
   "metadata": {},
   "outputs": [
    {
     "name": "stdout",
     "output_type": "stream",
     "text": [
      "Gamma\n",
      " The norm of psikplus orbital 1.0519624174803583\n",
      "The norm of psikminus orbital 1.059399768295623\n",
      "M\n",
      " The norm of psikplus orbital 0.978417730868605\n",
      "The norm of psikminus orbital 0.9863141075529721\n",
      "K\n",
      " The norm of psikplus orbital 0.9730817464332219\n",
      "The norm of psikminus orbital 0.97309594941877\n",
      "Kprime\n",
      " The norm of psikplus orbital 0.9730833534452165\n",
      "The norm of psikminus orbital 0.9730943424067755\n"
     ]
    }
   ],
   "source": [
    "gamma = -3.033/Hartree2eV\n",
    "s = 0.129\n",
    "get_phiAO = AtomicOrbital.get_2pz\n",
    "N2belarge = 4\n",
    "#\n",
    "k_list = []\n",
    "kchar_list = []\n",
    "#\n",
    "## Gamma\n",
    "k = np.array([0.0, 0.0])\n",
    "k_list.append(k)\n",
    "kchar_list.append('Gamma')\n",
    "## M\n",
    "k = 0.5*b1 + 0.5*b2\n",
    "k_list.append(k)\n",
    "kchar_list.append('M')\n",
    "## K\n",
    "k = (1.0/3.0)*b1 + (2.0/3.0)*b2\n",
    "k_list.append(k)\n",
    "kchar_list.append('K')\n",
    "## K'\n",
    "k = (2.0/3.0)*b1 + (1.0/3.0)*b2\n",
    "k_list.append(k)\n",
    "kchar_list.append('Kprime')\n",
    "for ik in range(len(k_list)):\n",
    "    print(kchar_list[ik])\n",
    "    k = k_list[ik]\n",
    "    f, epsplus, epsminus, cAplus, cBplus, cAminus, cBminus = k2fepscAcB(k, a1, a2, RA[:2], RB[:2], gamma, s)\n",
    "    %prun  phinkA, N1, N2 = get_phink(r, RA, Z, k, get_phiAO, N1=N2belarge, N2=N2belarge)\n",
    "    phinkB, N1, N2 = get_phink(r, RB, Z, k, get_phiAO, N1=N2belarge, N2=N2belarge)\n",
    "    psikplus = cAplus*phinkA + cBplus*phinkB\n",
    "    psikminus = cAminus*phinkA + cBminus*phinkB\n",
    "    print('The norm of psikplus orbital', np.sum((np.abs(psikplus))**2)*dV*(N1*N2))\n",
    "    print('The norm of psikminus orbital', np.sum((np.abs(psikminus))**2)*dV*(N1*N2))"
   ]
  },
  {
   "cell_type": "code",
   "execution_count": 88,
   "metadata": {},
   "outputs": [
    {
     "name": "stdout",
     "output_type": "stream",
     "text": [
      "[-0.78038049  0.        ]\n",
      "[-0.71534879  0.11263822]\n",
      "[-0.65031708  0.22527644]\n",
      "[-0.58528537  0.33791467]\n",
      "[-0.52025366  0.45055289]\n",
      "[-0.45522196  0.56319111]\n",
      "[-0.39019025  0.67582933]\n",
      "[-0.32515854  0.78846755]\n",
      "[-0.26012683  0.90110578]\n",
      "[-0.19509512  1.013744  ]\n",
      "[-0.13006342  1.12638222]\n",
      "[-0.06503171  1.23902044]\n",
      "[-0.71534879 -0.11263822]\n",
      "[-0.65031708  0.        ]\n",
      "[-0.58528537  0.11263822]\n",
      "[-0.52025366  0.22527644]\n",
      "[-0.45522196  0.33791467]\n",
      "[-0.39019025  0.45055289]\n",
      "[-0.32515854  0.56319111]\n",
      "[-0.26012683  0.67582933]\n",
      "[-0.19509512  0.78846755]\n",
      "[-0.13006342  0.90110578]\n",
      "[-0.06503171  1.013744  ]\n",
      "[-5.55111512e-17  1.12638222e+00]\n",
      "[-0.65031708 -0.22527644]\n",
      "[-0.58528537 -0.11263822]\n",
      "[-0.52025366  0.        ]\n",
      "[-0.45522196  0.11263822]\n",
      "[-0.39019025  0.22527644]\n",
      "[-0.32515854  0.33791467]\n",
      "[-0.26012683  0.45055289]\n",
      "[-0.19509512  0.56319111]\n",
      "[-0.13006342  0.67582933]\n",
      "[-0.06503171  0.78846755]\n",
      "[0.         0.90110578]\n",
      "[0.06503171 1.013744  ]\n",
      "[-0.58528537 -0.33791467]\n",
      "[-0.52025366 -0.22527644]\n",
      "[-0.45522196 -0.11263822]\n",
      "[-0.39019025  0.        ]\n",
      "[-0.32515854  0.11263822]\n",
      "[-0.26012683  0.22527644]\n",
      "[-0.19509512  0.33791467]\n",
      "[-0.13006342  0.45055289]\n",
      "[-0.06503171  0.56319111]\n",
      "[0.         0.67582933]\n",
      "[0.06503171 0.78846755]\n",
      "[0.13006342 0.90110578]\n",
      "[-0.52025366 -0.45055289]\n",
      "[-0.45522196 -0.33791467]\n",
      "[-0.39019025 -0.22527644]\n",
      "[-0.32515854 -0.11263822]\n",
      "[-0.26012683  0.        ]\n",
      "[-0.19509512  0.11263822]\n",
      "[-0.13006342  0.22527644]\n",
      "[-0.06503171  0.33791467]\n",
      "[-5.55111512e-17  4.50552889e-01]\n",
      "[0.06503171 0.56319111]\n",
      "[0.13006342 0.67582933]\n",
      "[0.19509512 0.78846755]\n",
      "[-0.45522196 -0.56319111]\n",
      "[-0.39019025 -0.45055289]\n",
      "[-0.32515854 -0.33791467]\n",
      "[-0.26012683 -0.22527644]\n",
      "[-0.19509512 -0.11263822]\n",
      "[-0.13006342  0.        ]\n",
      "[-0.06503171  0.11263822]\n",
      "[4.16333634e-17 2.25276444e-01]\n",
      "[0.06503171 0.33791467]\n",
      "[0.13006342 0.45055289]\n",
      "[0.19509512 0.56319111]\n",
      "[0.26012683 0.67582933]\n",
      "[-0.39019025 -0.67582933]\n",
      "[-0.32515854 -0.56319111]\n",
      "[-0.26012683 -0.45055289]\n",
      "[-0.19509512 -0.33791467]\n",
      "[-0.13006342 -0.22527644]\n",
      "[-0.06503171 -0.11263822]\n",
      "[0. 0.]\n",
      "[0.06503171 0.11263822]\n",
      "[0.13006342 0.22527644]\n",
      "[0.19509512 0.33791467]\n",
      "[0.26012683 0.45055289]\n",
      "[0.32515854 0.56319111]\n",
      "[-0.32515854 -0.78846755]\n",
      "[-0.26012683 -0.67582933]\n",
      "[-0.19509512 -0.56319111]\n",
      "[-0.13006342 -0.45055289]\n",
      "[-0.06503171 -0.33791467]\n",
      "[ 4.16333634e-17 -2.25276444e-01]\n",
      "[ 0.06503171 -0.11263822]\n",
      "[0.13006342 0.        ]\n",
      "[0.19509512 0.11263822]\n",
      "[0.26012683 0.22527644]\n",
      "[0.32515854 0.33791467]\n",
      "[0.39019025 0.45055289]\n",
      "[-0.26012683 -0.90110578]\n",
      "[-0.19509512 -0.78846755]\n",
      "[-0.13006342 -0.67582933]\n",
      "[-0.06503171 -0.56319111]\n",
      "[-5.55111512e-17 -4.50552889e-01]\n",
      "[ 0.06503171 -0.33791467]\n",
      "[ 0.13006342 -0.22527644]\n",
      "[ 0.19509512 -0.11263822]\n",
      "[0.26012683 0.        ]\n",
      "[0.32515854 0.11263822]\n",
      "[0.39019025 0.22527644]\n",
      "[0.45522196 0.33791467]\n",
      "[-0.19509512 -1.013744  ]\n",
      "[-0.13006342 -0.90110578]\n",
      "[-0.06503171 -0.78846755]\n",
      "[ 0.         -0.67582933]\n",
      "[ 0.06503171 -0.56319111]\n",
      "[ 0.13006342 -0.45055289]\n",
      "[ 0.19509512 -0.33791467]\n",
      "[ 0.26012683 -0.22527644]\n",
      "[ 0.32515854 -0.11263822]\n",
      "[0.39019025 0.        ]\n",
      "[0.45522196 0.11263822]\n",
      "[0.52025366 0.22527644]\n",
      "[-0.13006342 -1.12638222]\n",
      "[-0.06503171 -1.013744  ]\n",
      "[ 0.         -0.90110578]\n",
      "[ 0.06503171 -0.78846755]\n",
      "[ 0.13006342 -0.67582933]\n",
      "[ 0.19509512 -0.56319111]\n",
      "[ 0.26012683 -0.45055289]\n",
      "[ 0.32515854 -0.33791467]\n",
      "[ 0.39019025 -0.22527644]\n",
      "[ 0.45522196 -0.11263822]\n",
      "[0.52025366 0.        ]\n",
      "[0.58528537 0.11263822]\n",
      "[-0.06503171 -1.23902044]\n",
      "[-5.55111512e-17 -1.12638222e+00]\n",
      "[ 0.06503171 -1.013744  ]\n",
      "[ 0.13006342 -0.90110578]\n",
      "[ 0.19509512 -0.78846755]\n",
      "[ 0.26012683 -0.67582933]\n",
      "[ 0.32515854 -0.56319111]\n",
      "[ 0.39019025 -0.45055289]\n",
      "[ 0.45522196 -0.33791467]\n",
      "[ 0.52025366 -0.22527644]\n",
      "[ 0.58528537 -0.11263822]\n",
      "[0.65031708 0.        ]\n",
      "0.8208540508689496\n",
      "1.2671927964323646\n"
     ]
    }
   ],
   "source": [
    "Z = 4.0\n",
    "gamma = -3.033/Hartree2eV\n",
    "s = 0.129\n",
    "get_phiAO = AtomicOrbital.get_2pz\n",
    "#\n",
    "k_list = []\n",
    "normkplus_list = []\n",
    "normkminus_list = []\n",
    "f_list = []\n",
    "N1k = 12\n",
    "N2k = 12\n",
    "N2belarge = 8\n",
    "for i1 in range(N1k):\n",
    "    for i2 in range(N2k):\n",
    "        k = (i1/N1k - 1/2)*b1 + (i2/N2k - 1/2)*b2\n",
    "        #k = (i1/N1k - 1/2)*b1 + (i2/N2k - 1/2)*b2 \n",
    "        #k = (i1/N1k)*b1 + (i2/N2k)*b2 \n",
    "        k_list.append(k)\n",
    "N2belarge = 4\n",
    "#\n",
    "for k in k_list:\n",
    "    print(k)\n",
    "    f, epsplus, epsminus, cAplus, cBplus, cAminus, cBminus = k2fepscAcB(k, a1, a2, RA[:2], RB[:2], gamma, s)\n",
    "    f_list.append(f)\n",
    "    phinkA, N1, N2 = get_phink(r, RA, Z, k, get_phiAO, N1=N2belarge, N2=N2belarge)\n",
    "    phinkA, N1, N2 = get_phink(r, RA, Z, k, get_phiAO, N1=N2belarge, N2=N2belarge)\n",
    "    psikplus = cAplus*phinkA + cBplus*phinkB\n",
    "    psikminus = cAminus*phinkA + cBminus*phinkB\n",
    "    normkplus = np.sum((np.abs(psikplus))**2)*dV*(N1*N2)\n",
    "    normkminus = np.sum((np.abs(psikminus))**2)*dV*(N1*N2)\n",
    "    #print('The norms of psikplus, and psikminus orbital', normkplus, normkminus, (normkplus - normkminus)/(normkplus + normkminus)*2.0)\n",
    "    normkplus_list.append(normkplus)\n",
    "    normkminus_list.append(normkminus)\n",
    "normkplus_array = np.array(normkplus_list)\n",
    "normkminus_array = np.array(normkminus_list)\n",
    "f_array = np.array(f_list)\n",
    "print(np.sum(normkplus_array)/(N1k*N2k))\n",
    "print(np.sum(normkminus_array)/(N1k*N2k))"
   ]
  },
  {
   "cell_type": "code",
   "execution_count": 89,
   "metadata": {},
   "outputs": [
    {
     "name": "stdout",
     "output_type": "stream",
     "text": [
      "(144, 2)\n"
     ]
    },
    {
     "data": {
      "image/png": "[encoded data removed]",
      "text/plain": [
       "<Figure size 432x288 with 2 Axes>"
      ]
     },
     "metadata": {
      "needs_background": "light"
     },
     "output_type": "display_data"
    },
    {
     "data": {
      "image/png": "[encoded data removed]",
      "text/plain": [
       "<Figure size 432x288 with 2 Axes>"
      ]
     },
     "metadata": {
      "needs_background": "light"
     },
     "output_type": "display_data"
    },
    {
     "data": {
      "image/png": "[encoded data removed]",
      "text/plain": [
       "<Figure size 432x288 with 2 Axes>"
      ]
     },
     "metadata": {
      "needs_background": "light"
     },
     "output_type": "display_data"
    },
    {
     "data": {
      "image/png": "[encoded data removed]",
      "text/plain": [
       "<Figure size 432x288 with 2 Axes>"
      ]
     },
     "metadata": {
      "needs_background": "light"
     },
     "output_type": "display_data"
    }
   ],
   "source": [
    "k_array = np.array(k_list)\n",
    "#print(k_array.shape)\n",
    "k_array = np.array(k_list)\n",
    "print(k_array.shape)\n",
    "plt.figure()\n",
    "plt.title('The effectie carge: Z = '+str(Z))\n",
    "plt.scatter(k_array[:,0], k_array[:,1], s = 10000.0/(N1k*N2k), c=np.abs(f_array), cmap=plt.cm.jet)\n",
    "plt.grid()\n",
    "plt.colorbar()\n",
    "plt.axis('scaled')\n",
    "plt.show()\n",
    "#\n",
    "plt.figure()\n",
    "plt.scatter(k_array[:,0], k_array[:,1], s = 10000.0/(N1k*N2k), c=(normkplus_array - normkminus_array)/(normkplus_array + normkminus_array)*2.0, cmap=plt.cm.jet)\n",
    "plt.grid()\n",
    "plt.colorbar()\n",
    "plt.axis('scaled')\n",
    "plt.show()\n",
    "#\n",
    "plt.figure()\n",
    "plt.scatter(k_array[:,0], k_array[:,1], s = 10000.0/(N1k*N2k), c=normkplus_array, cmap=plt.cm.jet)\n",
    "plt.grid()\n",
    "plt.colorbar()\n",
    "plt.axis('scaled')\n",
    "plt.show()\n",
    "#\n",
    "plt.figure()\n",
    "plt.scatter(k_array[:,0], k_array[:,1], s = 10000.0/(N1k*N2k), c=normkminus_array, cmap=plt.cm.jet)\n",
    "plt.grid()\n",
    "plt.colorbar()\n",
    "plt.axis('scaled')\n",
    "plt.show()"
   ]
  },
  {
   "cell_type": "code",
   "execution_count": null,
   "metadata": {},
   "outputs": [],
   "source": []
  },
  {
   "cell_type": "code",
   "execution_count": 4,
   "metadata": {
    "colab": {
     "base_uri": "https://localhost:8080/"
    },
    "executionInfo": {
     "elapsed": 1496,
     "status": "ok",
     "timestamp": 1683535265438,
     "user": {
      "displayName": "Yasushi Shinohara",
      "userId": "05093475804502242028"
     },
     "user_tz": -540
    },
    "id": "k_g5Yi_ZpFFf",
    "outputId": "99188423-0265-4f68-906d-b458526db5eb"
   },
   "outputs": [
    {
     "name": "stdout",
     "output_type": "stream",
     "text": [
      "[6.92820323 0.         0.        ]\n",
      "max, min =  0.5870506526949595 0.0\n",
      "The norm of 2pz orbital 0.9998614648412059 , should be close to 1 because isolated atom in a large honeycomb cell\n"
     ]
    }
   ],
   "source": [
    "# Generate spatial cordinate in the Honeycomb cell\n",
    "def get_rgrid_Honeycomb(N1, N2, Nz, Lz, a=4.6485):\n",
    "    # Lz is the size of spatial box z axis.\n",
    "    # `r` is generated in the primitive cell\n",
    "    # N1, N2, Nz are number of spatial uniform grid along a1, a2, and z zxes\n",
    "    a1 = a*np.array([np.sqrt(3.0)/2.0, -1.0/2.0])\n",
    "    a2 = a*np.array([np.sqrt(3.0)/2.0, +1.0/2.0])\n",
    "    b1 = (tpi/a)*np.array([1.0/np.sqrt(3.0), -1.0])\n",
    "    b2 = (tpi/a)*np.array([1.0/np.sqrt(3.0), +1.0])\n",
    "    dz = Lz/Nz #z-grid size\n",
    "    S = a1[0]*a2[1] - a1[1]*a2[0]\n",
    "    V = S*Lz #Volume\n",
    "    dS = S/(N1*N2) #Surface of the discretized box\n",
    "    dV = V/(N1*N2*Nz) #Volume of the discretized box\n",
    "    r = np.zeros([N1*N2*Nz,3],dtype = \"float64\")\n",
    "    n = 0\n",
    "    for i1 in range(N1):\n",
    "        for i2 in range(N2):\n",
    "            for iz in range(Nz):\n",
    "                r[n, 0] = i1/N1*a1[0] + i2/N2*a2[0]\n",
    "                r[n, 1] = i1/N1*a1[1] + i2/N2*a2[1]\n",
    "                r[n, 2] = -Lz/2.0 + iz*dz\n",
    "                n += 1\n",
    "    return r, dV, V, a1, a2, b1, b2\n",
    "# Check of nomarlization 2pz orbital\n",
    "## Generate spatial grids\n",
    "a = 8.0 #So large cell\n",
    "Lz = 8.0\n",
    "N1 = 80\n",
    "N2 = 80\n",
    "Nz = 80\n",
    "r, dV, V, a1, a2, b1, b2 = get_rgrid_Honeycomb(N1, N2, Nz, Lz, a=a)\n",
    "## Determine atomic position and the effective charge\n",
    "Rc = np.array([0.5*(np.sqrt(3.0)*a), 0.0, 0.0]) #Center of the lattice\n",
    "print(Rc)\n",
    "Z = 4.0\n",
    "## 2pz\n",
    "phi = get_2pz(r, Rc, Z)\n",
    "print('max, min = ', np.amax(np.abs(phi)), np.amin(np.abs(phi)))\n",
    "print('The norm of 2pz orbital', np.sum(phi*phi)*dV, ', should be close to 1 because isolated atom in a large honeycomb cell')\n"
   ]
  },
  {
   "cell_type": "code",
   "execution_count": 5,
   "metadata": {
    "colab": {
     "base_uri": "https://localhost:8080/"
    },
    "executionInfo": {
     "elapsed": 12334,
     "status": "ok",
     "timestamp": 1683535277769,
     "user": {
      "displayName": "Yasushi Shinohara",
      "userId": "05093475804502242028"
     },
     "user_tz": -540
    },
    "id": "H6AsdhYIuO90",
    "outputId": "cb9027f1-ef3d-4692-d864-14c4d64ff885"
   },
   "outputs": [
    {
     "name": "stdout",
     "output_type": "stream",
     "text": [
      "[4.02571909 0.         0.        ]\n",
      "The norm of phink orbital 1.0543053843417938\n",
      "[0. 0. 0.]\n",
      "The norm of phink orbital 1.0543053843415422\n",
      "[-4.02571909  0.          0.        ]\n",
      "The norm of phink orbital 1.0543053843349006\n",
      "When these three norms with differnt atom poisitions show the same value, the code seems written well.\n"
     ]
    }
   ],
   "source": [
    "def get_phink(r, Rc, Z, k, N1=10, N2=10):\n",
    "    phink = (0.0+0.0j)*get_2pz(r, Rc, Z)\n",
    "    for i1 in range(-N1//2, N1//2):\n",
    "        for i2 in range(-N2//2, N2//2):\n",
    "            d = Rc[:2] + i1*a1 + i2*a2\n",
    "            ekx = np.exp(zI*d)\n",
    "            d3D = 1.0*Rc\n",
    "            d3D[:2] = 1.0*d\n",
    "            phink = phink + get_2pz(r, d3D, Z)\n",
    "    phink = phink/np.sqrt(N1*N2)\n",
    "    return phink, N1, N2\n",
    "#\n",
    "a = 4.6485 #Lattice constant for graphene\n",
    "Lz = 8.0\n",
    "N1 = 80\n",
    "N2 = 80\n",
    "Nz = 80\n",
    "r, dV, V, a1, a2, b1, b2 = get_rgrid_Honeycomb(N1, N2, Nz, Lz, a=a)\n",
    "\n",
    "Rc = np.array([0.5*(np.sqrt(3.0)*a), 0.0, 0.0]) #The body center of the cell\n",
    "print(Rc)\n",
    "Z = 4.0\n",
    "k = np.array([0.0, 0.0]) #The Gamma point\n",
    "phink, N1, N2 = get_phink(r, Rc, Z, k)\n",
    "print('The norm of phink orbital', np.sum((np.abs(phink))**2)*dV*(N1*N2))\n",
    "\n",
    "Rc = np.array([0.0, 0.0, 0.0]) #The origin of the coordinate\n",
    "print(Rc)\n",
    "Z = 4.0\n",
    "k = np.array([0.0, 0.0]) #The Gamma point\n",
    "phink, N1, N2 = get_phink(r, Rc, Z, k)\n",
    "print('The norm of phink orbital', np.sum((np.abs(phink))**2)*dV*(N1*N2))\n",
    "\n",
    "Rc = np.array([-0.5*(np.sqrt(3.0)*a), 0.0, 0.0]) #Outside of the cell\n",
    "print(Rc)\n",
    "Z = 4.0\n",
    "k = np.array([0.0, 0.0]) #The Gamma point\n",
    "phink, N1, N2 = get_phink(r, Rc, Z, k)\n",
    "print('The norm of phink orbital', np.sum((np.abs(phink))**2)*dV*(N1*N2))\n",
    "\n",
    "print('When these three norms with differnt atom poisitions show the same value, the code seems written well.')"
   ]
  },
  {
   "cell_type": "code",
   "execution_count": 6,
   "metadata": {
    "colab": {
     "base_uri": "https://localhost:8080/"
    },
    "executionInfo": {
     "elapsed": 12155,
     "status": "ok",
     "timestamp": 1683535289918,
     "user": {
      "displayName": "Yasushi Shinohara",
      "userId": "05093475804502242028"
     },
     "user_tz": -540
    },
    "id": "QyaYCNS9tUJX",
    "outputId": "6209e557-768f-473b-d473-5cf693d1ad09"
   },
   "outputs": [
    {
     "name": "stdout",
     "output_type": "stream",
     "text": [
      "[2.68381273 0.         0.        ]\n",
      "The norm of phink orbital 1.0543053842219803\n",
      "[5.36762545 0.         0.        ]\n",
      "The norm of phink orbital 1.0543053842219876\n",
      "The overlap (0.40492824586730425+0j)\n"
     ]
    }
   ],
   "source": [
    "#\n",
    "a = 4.6485\n",
    "Z = 4.0\n",
    "#\n",
    "Lz = 8.0\n",
    "N1 = 80\n",
    "N2 = 80\n",
    "Nz = 80\n",
    "r, dV, V, a1, a2, b1, b2 = get_rgrid_Honeycomb(N1, N2, Nz, Lz, a=a)\n",
    "#\n",
    "k = np.array([0.0, 0.0])\n",
    "#\n",
    "RA = np.array([(np.sqrt(3.0)*a)/3.0, 0.0, 0.0])\n",
    "print(RA)\n",
    "phinkA, N1, N2 = get_phink(r, RA, Z, k)\n",
    "print('The norm of phink orbital', np.sum((np.abs(phinkA))**2)*dV*(N1*N2))\n",
    "RB = np.array([2.0*(np.sqrt(3.0)*a)/3.0, 0.0, 0.0])\n",
    "print(RB)\n",
    "phinkB, N1, N2 = get_phink(r, RB, Z, k)\n",
    "print('The norm of phink orbital', np.sum((np.abs(phinkB))**2)*dV*(N1*N2))\n",
    "#\n",
    "print('The overlap', np.sum(np.conjugate(phinkA)*phinkB)*dV*(N1*N2))"
   ]
  },
  {
   "cell_type": "markdown",
   "metadata": {
    "id": "9T3TXtTZkYPH"
   },
   "source": [
    "# In general\n",
    "$$\n",
    "S_{AA}(\\mathbf{k})\n",
    "=\n",
    "\\sum_{\\mathbf{T}''} e^{-\\mathrm{i}\\mathbf{k}\\cdot\\mathbf{T}''} \\int \\! \\mathrm{d}^3r \\ \\phi_{2pz} (\\mathbf{r}-\\mathbf{R}_A ) \\phi_{2pz} (\\mathbf{r}-\\mathbf{R}_A  + \\mathbf{T}''), \\\\\n",
    "S_{AB}(\\mathbf{k})\n",
    "=\n",
    "\\sum_{\\mathbf{T}''} e^{-\\mathrm{i}\\mathbf{k}\\cdot(\\mathbf{R}_A - \\mathbf{R}_B + \\mathbf{T}'') } \\int \\! \\mathrm{d}^3r \\ \\phi_{2pz} (\\mathbf{r}-\\mathbf{R}_A ) \\phi_{2pz} (\\mathbf{r}-\\mathbf{R}_B + \\mathbf{T}''), \n",
    "$$\n"
   ]
  },
  {
   "cell_type": "markdown",
   "metadata": {
    "id": "XWAiJgqOgTU-"
   },
   "source": [
    "## Nearest negibhbour\n",
    "$$\n",
    "S_{AA}(\\mathbf{k})^{(0)}\n",
    "=\n",
    "\\sum_{\\mathbf{T}''=0} e^{-\\mathrm{i}\\mathbf{k}\\cdot\\mathbf{T}''} \\int \\! \\mathrm{d}^3r \\ \\phi_{2pz} (\\mathbf{r}-\\mathbf{R}_A ) \\phi_{2pz} (\\mathbf{r}-\\mathbf{R}_A  + \\mathbf{T}''), \\\\\n",
    "=1, \\\\\n",
    "S_{AB}(\\mathbf{k})^{(0)}\n",
    "=\n",
    "\\sum_{\\mathbf{T}''=\\mathbf{0}, +\\mathbf{a}_1, +\\mathbf{a}_2} e^{-\\mathrm{i}\\mathbf{k}\\cdot(\\mathbf{R}_A - \\mathbf{R}_B + \\mathbf{T}'') } \\int \\! \\mathrm{d}^3r \\ \\phi_{2pz} (\\mathbf{r}-\\mathbf{R}_A ) \\phi_{2pz} (\\mathbf{r}-\\mathbf{R}_B + \\mathbf{T}'') \\\\\n",
    "=\n",
    "t \\left(e^{-\\mathrm{i}\\mathbf{k}\\cdot(\\mathbf{R}_A - \\mathbf{R}_B) } + e^{-\\mathrm{i}\\mathbf{k}\\cdot(\\mathbf{R}_A - \\mathbf{R}_B +  \\mathbf{a}_1) } + e^{-\\mathrm{i}\\mathbf{k}\\cdot(\\mathbf{R}_A - \\mathbf{R}_B + \\mathbf{a}_2) } \\right)  =t f(\\mathbf{k}) \\\\\n",
    "f(\\mathbf{k})\n",
    "=\n",
    " e^{-\\mathrm{i}\\mathbf{k}\\cdot(\\mathbf{R}_A - \\mathbf{R}_B) } \\left(1 + e^{-\\mathrm{i}\\mathbf{k}  \\mathbf{a}_1 } + e^{-\\mathrm{i}\\mathbf{k}\\cdot\\mathbf{a}_2  } \\right) \n",
    "=\n",
    "e^{+\\mathrm{i}\\frac{a}{\\sqrt{3}}k_x } \\left\\{ 1 + 2 e^{-\\mathrm{i}\\frac{\\sqrt{3}a}{2}k_x} \\cos \\left[ \\frac{a}{2}k_y \\right] \\right\\} \n",
    "$$\n"
   ]
  },
  {
   "cell_type": "markdown",
   "metadata": {
    "id": "v6KJEqk6hRWf"
   },
   "source": [
    "# Eq.(3) in NJP 24 (2022) 033051\n",
    "\n",
    "$$\n",
    "f(\\mathbf{k})\n",
    "=\n",
    "\\exp \\left( \\mathrm{i} \\frac{k_x a}{\\sqrt{3}}\\right) + 2  \\exp \\left( -\\mathrm{i} \\frac{k_x a}{2\\sqrt{3}}\\right) \\cos \\left( \\frac{k_y a}{2}\\right)\n",
    "$$"
   ]
  },
  {
   "cell_type": "code",
   "execution_count": 7,
   "metadata": {
    "colab": {
     "base_uri": "https://localhost:8080/"
    },
    "executionInfo": {
     "elapsed": 9,
     "status": "ok",
     "timestamp": 1683535289919,
     "user": {
      "displayName": "Yasushi Shinohara",
      "userId": "05093475804502242028"
     },
     "user_tz": -540
    },
    "id": "WAi38HLruPTR",
    "outputId": "f0895b28-83c0-4dec-a410-3e42393ba04a"
   },
   "outputs": [
    {
     "name": "stdout",
     "output_type": "stream",
     "text": [
      "Gamma\n",
      "(0.9999999999999998+0j) (1+0j)\n",
      "-0.24108297222515124 0.545484636992308\n",
      "M\n",
      "(1.0000000000000004-2.3211666433381225e-18j) (1.0000000000000004+5.257341300373346e-18j)\n",
      "-0.09872514983061255 0.12796865001005922\n",
      "K\n",
      "(0.9999999999999998+9.025469129932658e-34j) (1-3.0814879110195774e-33j)\n",
      "-6.663938374035729e-17 6.66393837403573e-17\n",
      "Kprime\n",
      "(0.9999999999999998-2.1789409980263115e-33j) (1+0j)\n",
      "-6.459742800187834e-17 6.459742800187835e-17\n"
     ]
    }
   ],
   "source": [
    "#\n",
    "def k2fepscAcB(k, a1, a2, RA, RB, gamma, s):\n",
    "    term1 = np.exp(-zI*np.sum(k*(RA-RB)))\n",
    "    term2 = 1.0 + np.exp(-zI*np.sum(k*a1)) + np.exp(-zI*np.sum(k*a2))\n",
    "    #term2 = 1.0 + np.exp(zI*np.sum(k*a1)) + np.exp(zI*np.sum(k*a2))\n",
    "    f = term1*term2\n",
    "    fabs = np.abs(f)\n",
    "    epsplus = +gamma*fabs/(1.0 + s*fabs)\n",
    "    epsminus = -gamma*fabs/(1.0 - s*fabs)\n",
    "    cAplus = 1.0/np.sqrt(2.0*(1.0+s*fabs))\n",
    "    cBplus = (np.conj(f)/fabs)/np.sqrt(2.0*(1.0+s*fabs))\n",
    "    cAminus = 1.0/np.sqrt(2.0*(1.0-s*fabs))\n",
    "    cBminus = -(np.conj(f)/fabs)/np.sqrt(2.0*(1.0-s*fabs))\n",
    "    return f, epsplus, epsminus, cAplus, cBplus, cAminus, cBminus \n",
    "gamma = -3.033/Hartree2eV\n",
    "s = 0.129\n",
    "# Gamma\n",
    "print('Gamma')\n",
    "k = np.array([0.0, 0.0])\n",
    "f, epsplus, epsminus,  cAplus, cBplus, cAminus, cBminus = k2fepscAcB(k, a1, a2, RA[:2], RB[:2], gamma, s)\n",
    "plusnorm = np.conj(cAplus)*cAplus + s*f*np.conj(cAplus)*cBplus + + s*np.conj(f)*np.conj(cBplus)*cAplus + np.conj(cBplus)*cBplus\n",
    "minusnorm = np.conj(cAminus)*cAminus + s*f*np.conj(cAminus)*cBminus + + s*np.conj(f)*np.conj(cBminus)*cAminus + np.conj(cBminus)*cBminus\n",
    "print(plusnorm, minusnorm)\n",
    "print(epsplus, epsminus)\n",
    "# M\n",
    "print('M')\n",
    "k = 0.5*b1 + 0.5*b2\n",
    "f, epsplus, epsminus, cAplus, cBplus, cAminus, cBminus = k2fepscAcB(k, a1, a2, RA[:2], RB[:2], gamma, s)\n",
    "plusnorm = np.conj(cAplus)*cAplus + s*f*np.conj(cAplus)*cBplus + + s*np.conj(f)*np.conj(cBplus)*cAplus + np.conj(cBplus)*cBplus\n",
    "minusnorm = np.conj(cAminus)*cAminus + s*f*np.conj(cAminus)*cBminus + + s*np.conj(f)*np.conj(cBminus)*cAminus + np.conj(cBminus)*cBminus\n",
    "print(plusnorm, minusnorm)\n",
    "print(epsplus, epsminus)\n",
    "# K\n",
    "print('K')\n",
    "k = (1.0/3.0)*b1 + (2.0/3.0)*b2\n",
    "f, epsplus, epsminus, cAplus, cBplus, cAminus, cBminus = k2fepscAcB(k, a1, a2, RA[:2], RB[:2], gamma, s)\n",
    "plusnorm = np.conj(cAplus)*cAplus + s*f*np.conj(cAplus)*cBplus + + s*np.conj(f)*np.conj(cBplus)*cAplus + np.conj(cBplus)*cBplus\n",
    "minusnorm = np.conj(cAminus)*cAminus + s*f*np.conj(cAminus)*cBminus + + s*np.conj(f)*np.conj(cBminus)*cAminus + np.conj(cBminus)*cBminus\n",
    "print(plusnorm, minusnorm)\n",
    "print(epsplus, epsminus)\n",
    "# K'\n",
    "print('Kprime')\n",
    "k = (2.0/3.0)*b1 + (1.0/3.0)*b2\n",
    "f, epsplus, epsminus, cAplus, cBplus, cAminus, cBminus = k2fepscAcB(k, a1, a2, RA[:2], RB[:2], gamma, s)\n",
    "plusnorm = np.conj(cAplus)*cAplus + s*f*np.conj(cAplus)*cBplus + + s*np.conj(f)*np.conj(cBplus)*cAplus + np.conj(cBplus)*cBplus\n",
    "minusnorm = np.conj(cAminus)*cAminus + s*f*np.conj(cAminus)*cBminus + + s*np.conj(f)*np.conj(cBminus)*cAminus + np.conj(cBminus)*cBminus\n",
    "print(plusnorm, minusnorm)\n",
    "print(epsplus, epsminus)"
   ]
  },
  {
   "cell_type": "code",
   "execution_count": 26,
   "metadata": {
    "colab": {
     "base_uri": "https://localhost:8080/",
     "height": 435
    },
    "executionInfo": {
     "elapsed": 1316,
     "status": "ok",
     "timestamp": 1683535291230,
     "user": {
      "displayName": "Yasushi Shinohara",
      "userId": "05093475804502242028"
     },
     "user_tz": -540
    },
    "id": "ZfhsqHnEhgur",
    "outputId": "6b8100bd-0771-43bc-cff5-af0f661b7926"
   },
   "outputs": [
    {
     "data": {
      "image/png": "[encoded data removed]",
      "text/plain": [
       "<Figure size 432x288 with 2 Axes>"
      ]
     },
     "metadata": {
      "needs_background": "light"
     },
     "output_type": "display_data"
    }
   ],
   "source": [
    "k_list = []\n",
    "epsplus_list = []\n",
    "epsminus_list = []\n",
    "f_list = []\n",
    "Z = 4.0\n",
    "gamma = -3.033/Hartree2eV\n",
    "s = 0.129\n",
    "N1k = 48\n",
    "N2k = 48\n",
    "for i1 in range(N1k):\n",
    "    for i2 in range(N2k):\n",
    "        k = (i1/N1k - 1/2)*b1 + (i2/N2k - 1/2)*b2 \n",
    "        #k = (i1/N1k)*b1 + (i2/N2k)*b2 \n",
    "        k_list.append(k)\n",
    "#\n",
    "for k in k_list:\n",
    "    #print(k)\n",
    "    f, epsplus, epsminus, cAplus, cBplus, cAminus, cBminus = k2fepscAcB(k, a1, a2, RA[:2], RB[:2], gamma, s)\n",
    "    f_list.append(f)\n",
    "    epsplus_list.append(epsplus)\n",
    "    epsminus_list.append(epsminus)\n",
    "k_array = np.array(k_list)\n",
    "f_array = np.array(f_list)\n",
    "epsplus_array = np.array(epsplus_list)\n",
    "epsminus_array = np.array(epsminus_list)\n",
    "#print(k_array.shape)\n",
    "plt.figure()\n",
    "#plt.scatter(k_array[:,0], k_array[:,1], s = 20, c=(epsminus_array - epsplus_array), cmap=plt.cm.jet)\n",
    "plt.scatter(k_array[:,0], k_array[:,1], s = 20, c=np.abs(f_array), cmap=plt.cm.jet)\n",
    "#plt.plot(np.array([0.0, 1.0, 2.0]))\n",
    "plt.grid()\n",
    "plt.colorbar()\n",
    "plt.axis('scaled')\n",
    "plt.show()\n"
   ]
  },
  {
   "cell_type": "code",
   "execution_count": 9,
   "metadata": {
    "colab": {
     "base_uri": "https://localhost:8080/"
    },
    "executionInfo": {
     "elapsed": 25368,
     "status": "ok",
     "timestamp": 1683535316587,
     "user": {
      "displayName": "Yasushi Shinohara",
      "userId": "05093475804502242028"
     },
     "user_tz": -540
    },
    "id": "eO54lcLO9Wjg",
    "outputId": "ad7b428e-0931-4944-aca7-334fd3dfa579"
   },
   "outputs": [
    {
     "name": "stdout",
     "output_type": "stream",
     "text": [
      "[0. 0.]\n",
      "The norm of psikplus orbital 1.0520790411602652\n",
      "The norm of psikminus orbital 1.0593428031887102\n",
      "[0.78038049 0.        ]\n",
      "The norm of psikplus orbital 1.1131705112095986\n",
      "The norm of psikminus orbital 0.9780037443034804\n",
      "[0.78038049 0.45055289]\n",
      "The norm of psikplus orbital 1.3047085827463767\n",
      "The norm of psikminus orbital 0.8039021856975901\n",
      "[ 0.78038049 -0.45055289]\n",
      "The norm of psikplus orbital 1.332016494047548\n",
      "The norm of psikminus orbital 0.7765942743964198\n"
     ]
    }
   ],
   "source": [
    "k_list = []\n",
    "gamma = -3.033/Hartree2eV\n",
    "s = 0.129\n",
    "k = np.array([0.0, 0.0])\n",
    "k_list.append(k)\n",
    "k = 0.5*b1 + 0.5*b2\n",
    "k_list.append(k)\n",
    "k = (1.0/3.0)*b1 + (2.0/3.0)*b2\n",
    "k_list.append(k)\n",
    "k = (2.0/3.0)*b1 + (1.0/3.0)*b2\n",
    "k_list.append(k)\n",
    "for k in k_list:\n",
    "    print(k)\n",
    "    f, epsplus, epsminus, cAplus, cBplus, cAminus, cBminus = k2fepscAcB(k, a1, a2, RA[:2], RB[:2], gamma, s)\n",
    "    phinkA, N1, N2 = get_phink(r, RA, Z, k)\n",
    "    phinkB, N1, N2 = get_phink(r, RB, Z, k)\n",
    "    psikplus = cAplus*phinkA + cBplus*phinkB\n",
    "    psikminus = cAminus*phinkA + cBminus*phinkB\n",
    "    print('The norm of psikplus orbital', np.sum((np.abs(psikplus))**2)*dV*(N1*N2))\n",
    "    print('The norm of psikminus orbital', np.sum((np.abs(psikminus))**2)*dV*(N1*N2))"
   ]
  },
  {
   "cell_type": "code",
   "execution_count": 10,
   "metadata": {
    "colab": {
     "base_uri": "https://localhost:8080/"
    },
    "executionInfo": {
     "elapsed": 308908,
     "status": "ok",
     "timestamp": 1683535625489,
     "user": {
      "displayName": "Yasushi Shinohara",
      "userId": "05093475804502242028"
     },
     "user_tz": -540
    },
    "id": "4tJa3zK7_eSv",
    "outputId": "114de428-ad09-4739-bba7-0ca76d14e143"
   },
   "outputs": [
    {
     "name": "stdout",
     "output_type": "stream",
     "text": [
      "[0. 0.]\n",
      "The norms of psikplus, and psikminus orbital 1.0520790411602652 1.0593428031887102 -0.006880446034870593\n",
      "[0.09754756 0.16895733]\n",
      "The norms of psikplus, and psikminus orbital 1.0722241649155644 1.0161461967384404 0.05370500291213652\n",
      "[0.19509512 0.33791467]\n",
      "The norms of psikplus, and psikminus orbital 1.1319826369352626 0.9136492661068705 0.21346300915985977\n",
      "[0.29264269 0.506872  ]\n",
      "The norms of psikplus, and psikminus orbital 1.212428276404064 0.8219542732182323 0.383874707594525\n",
      "[0.39019025 0.67582933]\n",
      "The norms of psikplus, and psikminus orbital 1.1131705112095986 0.9780037443034807 0.12927355675862046\n",
      "[0.48773781 0.84478667]\n",
      "The norms of psikplus, and psikminus orbital 0.8054584364241875 1.4199694825242704 -0.5522632666444187\n",
      "[0.58528537 1.013744  ]\n",
      "The norms of psikplus, and psikminus orbital 0.6777244679910467 1.7362091331714073 -0.8769791055318478\n",
      "[0.68283293 1.18270133]\n",
      "The norms of psikplus, and psikminus orbital 0.6275516530216069 1.9631047002385609 -1.031053806527639\n",
      "[ 0.09754756 -0.16895733]\n",
      "The norms of psikplus, and psikminus orbital 1.0722241649155644 1.0161461967384404 0.05370500291213652\n",
      "[0.19509512 0.        ]\n",
      "The norms of psikplus, and psikminus orbital 1.0722241649155644 1.0161461967384404 0.05370500291213652\n",
      "[0.29264269 0.16895733]\n",
      "The norms of psikplus, and psikminus orbital 1.1127011586628317 0.9430856497969666 0.1650127417569544\n",
      "[0.39019025 0.33791467]\n",
      "The norms of psikplus, and psikminus orbital 1.191339253636594 0.8384163412109094 0.3477491707095898\n",
      "[0.48773781 0.506872  ]\n",
      "The norms of psikplus, and psikminus orbital 1.2444495410566354 0.8078383887382632 0.4254872291355397\n",
      "[0.58528537 0.67582933]\n",
      "The norms of psikplus, and psikminus orbital 0.9338400214543704 1.2104539428495789 -0.25799999999999906\n",
      "[0.68283293 0.84478667]\n",
      "The norms of psikplus, and psikminus orbital 0.7232676145459362 1.5758365035079052 -0.7416531354688333\n",
      "[0.78038049 1.013744  ]\n",
      "The norms of psikplus, and psikminus orbital 0.6495496943654856 1.8251971270561218 -0.9501153188796023\n",
      "[ 0.19509512 -0.33791467]\n",
      "The norms of psikplus, and psikminus orbital 1.1319826369352626 0.9136492661068703 0.21346300915986\n",
      "[ 0.29264269 -0.16895733]\n",
      "The norms of psikplus, and psikminus orbital 1.1127011586628317 0.9430856497969666 0.1650127417569544\n",
      "[0.39019025 0.        ]\n",
      "The norms of psikplus, and psikminus orbital 1.1319826369352626 0.9136492661068705 0.21346300915985977\n",
      "[0.48773781 0.16895733]\n",
      "The norms of psikplus, and psikminus orbital 1.191339253636594 0.8384163412109094 0.3477491707095898\n",
      "[0.58528537 0.33791467]\n",
      "The norms of psikplus, and psikminus orbital 1.2925010009648261 0.7455535457573819 0.53673485441015\n",
      "[0.68283293 0.506872  ]\n",
      "The norms of psikplus, and psikminus orbital 1.1930221015811722 0.899927586573431 0.2800779365758846\n",
      "[0.78038049 0.67582933]\n",
      "The norms of psikplus, and psikminus orbital 0.7545095316991425 1.4429041413956787 -0.6265498555190169\n",
      "[0.87792806 0.84478667]\n",
      "The norms of psikplus, and psikminus orbital 0.6706692643811962 1.658702203276407 -0.848325784542015\n",
      "[ 0.29264269 -0.506872  ]\n",
      "The norms of psikplus, and psikminus orbital 1.212428276404064 0.8219542732182323 0.383874707594525\n",
      "[ 0.39019025 -0.33791467]\n",
      "The norms of psikplus, and psikminus orbital 1.191339253636594 0.8384163412109094 0.3477491707095898\n",
      "[ 0.48773781 -0.16895733]\n",
      "The norms of psikplus, and psikminus orbital 1.191339253636594 0.8384163412109094 0.3477491707095898\n",
      "[0.58528537 0.        ]\n",
      "The norms of psikplus, and psikminus orbital 1.212428276404064 0.8219542732182323 0.383874707594525\n",
      "[0.68283293 0.16895733]\n",
      "The norms of psikplus, and psikminus orbital 1.2444495410566354 0.8078383887382632 0.4254872291355397\n",
      "[0.78038049 0.33791467]\n",
      "The norms of psikplus, and psikminus orbital 1.1930221015811722 0.8999275865734312 0.28007793657588437\n",
      "[0.87792806 0.506872  ]\n",
      "The norms of psikplus, and psikminus orbital 0.6164386340595125 1.5416071733681225 -0.8574132542732259\n",
      "[0.97547562 0.67582933]\n",
      "The norms of psikplus, and psikminus orbital 0.6232305018521055 1.6130694969608967 -0.8852470559711885\n",
      "[ 0.39019025 -0.67582933]\n",
      "The norms of psikplus, and psikminus orbital 1.1131705112095986 0.9780037443034807 0.12927355675862046\n",
      "[ 0.48773781 -0.506872  ]\n",
      "The norms of psikplus, and psikminus orbital 1.2444495410566354 0.8078383887382632 0.4254872291355397\n",
      "[ 0.58528537 -0.33791467]\n",
      "The norms of psikplus, and psikminus orbital 1.2925010009648261 0.7455535457573819 0.53673485441015\n",
      "[ 0.68283293 -0.16895733]\n",
      "The norms of psikplus, and psikminus orbital 1.2444495410566354 0.8078383887382632 0.4254872291355397\n",
      "[0.78038049 0.        ]\n",
      "The norms of psikplus, and psikminus orbital 1.1131705112095986 0.9780037443034804 0.1292735567586208\n",
      "[0.87792806 0.16895733]\n",
      "The norms of psikplus, and psikminus orbital 0.9338400214543704 1.210453942849579 -0.2579999999999993\n",
      "[0.97547562 0.33791467]\n",
      "The norms of psikplus, and psikminus orbital 0.7545095316991426 1.4429041413956787 -0.6265498555190168\n",
      "[1.07302318 0.506872  ]\n",
      "The norms of psikplus, and psikminus orbital 0.6232305018521055 1.613069496960896 -0.8852470559711881\n",
      "[ 0.48773781 -0.84478667]\n",
      "The norms of psikplus, and psikminus orbital 0.8054584364241875 1.4199694825242704 -0.5522632666444187\n",
      "[ 0.58528537 -0.67582933]\n",
      "The norms of psikplus, and psikminus orbital 0.9338400214543704 1.2104539428495789 -0.25799999999999906\n",
      "[ 0.68283293 -0.506872  ]\n",
      "The norms of psikplus, and psikminus orbital 1.1930221015811722 0.899927586573431 0.2800779365758846\n",
      "[ 0.78038049 -0.33791467]\n",
      "The norms of psikplus, and psikminus orbital 1.1930221015811722 0.8999275865734312 0.28007793657588437\n",
      "[ 0.87792806 -0.16895733]\n",
      "The norms of psikplus, and psikminus orbital 0.9338400214543704 1.210453942849579 -0.2579999999999993\n",
      "[0.97547562 0.        ]\n",
      "The norms of psikplus, and psikminus orbital 0.8054584364241875 1.4199694825242704 -0.5522632666444187\n",
      "[1.07302318 0.16895733]\n",
      "The norms of psikplus, and psikminus orbital 0.723267614545936 1.5758365035079052 -0.7416531354688334\n",
      "[1.17057074 0.33791467]\n",
      "The norms of psikplus, and psikminus orbital 0.6706692643811962 1.6587022032764065 -0.848325784542015\n",
      "[ 0.58528537 -1.013744  ]\n",
      "The norms of psikplus, and psikminus orbital 0.6777244679910467 1.7362091331714073 -0.8769791055318478\n",
      "[ 0.68283293 -0.84478667]\n",
      "The norms of psikplus, and psikminus orbital 0.7232676145459362 1.5758365035079052 -0.7416531354688333\n",
      "[ 0.78038049 -0.67582933]\n",
      "The norms of psikplus, and psikminus orbital 0.7545095316991425 1.4429041413956787 -0.6265498555190169\n",
      "[ 0.87792806 -0.506872  ]\n",
      "The norms of psikplus, and psikminus orbital 0.6164386340595125 1.5416071733681225 -0.8574132542732259\n",
      "[ 0.97547562 -0.33791467]\n",
      "The norms of psikplus, and psikminus orbital 0.7545095316991426 1.4429041413956787 -0.6265498555190168\n",
      "[ 1.07302318 -0.16895733]\n",
      "The norms of psikplus, and psikminus orbital 0.723267614545936 1.5758365035079052 -0.7416531354688334\n",
      "[1.17057074 0.        ]\n",
      "The norms of psikplus, and psikminus orbital 0.6777244679910467 1.7362091331714073 -0.8769791055318478\n",
      "[1.2681183  0.16895733]\n",
      "The norms of psikplus, and psikminus orbital 0.6495496943654857 1.8251971270561218 -0.950115318879602\n",
      "[ 0.68283293 -1.18270133]\n",
      "The norms of psikplus, and psikminus orbital 0.6275516530216069 1.9631047002385609 -1.031053806527639\n",
      "[ 0.78038049 -1.013744  ]\n",
      "The norms of psikplus, and psikminus orbital 0.6495496943654856 1.8251971270561218 -0.9501153188796023\n",
      "[ 0.87792806 -0.84478667]\n",
      "The norms of psikplus, and psikminus orbital 0.6706692643811962 1.658702203276407 -0.848325784542015\n",
      "[ 0.97547562 -0.67582933]\n",
      "The norms of psikplus, and psikminus orbital 0.6232305018521054 1.6130694969608963 -0.8852470559711884\n",
      "[ 1.07302318 -0.506872  ]\n",
      "The norms of psikplus, and psikminus orbital 0.6232305018521055 1.613069496960896 -0.8852470559711881\n",
      "[ 1.17057074 -0.33791467]\n",
      "The norms of psikplus, and psikminus orbital 0.6706692643811962 1.658702203276407 -0.848325784542015\n",
      "[ 1.2681183  -0.16895733]\n",
      "The norms of psikplus, and psikminus orbital 0.6495496943654857 1.8251971270561218 -0.950115318879602\n",
      "[1.36566587 0.        ]\n",
      "The norms of psikplus, and psikminus orbital 0.6275516530216069 1.9631047002385609 -1.031053806527639\n",
      "0.9211326744926429\n",
      "1.274317638378347\n"
     ]
    }
   ],
   "source": [
    "Z = 4.0\n",
    "gamma = -3.033/Hartree2eV\n",
    "s = 0.129\n",
    "#\n",
    "k_list = []\n",
    "normkplus_list = []\n",
    "normkminus_list = []\n",
    "N1k = 8\n",
    "N2k = 8\n",
    "for i1 in range(N1k):\n",
    "    for i2 in range(N2k):\n",
    "        k = (i1/N1k)*b1 + (i2/N2k)*b2 \n",
    "        k_list.append(k)\n",
    "#\n",
    "for k in k_list:\n",
    "    print(k)\n",
    "    f, epsplus, epsminus, cAplus, cBplus, cAminus, cBminus = k2fepscAcB(k, a1, a2, RA[:2], RB[:2], gamma, s)\n",
    "    phinkA, N1, N2 = get_phink(r, RA, Z, k)\n",
    "    phinkB, N1, N2 = get_phink(r, RB, Z, k)\n",
    "    psikplus = cAplus*phinkA + cBplus*phinkB\n",
    "    psikminus = cAminus*phinkA + cBminus*phinkB\n",
    "    normkplus = np.sum((np.abs(psikplus))**2)*dV*(N1*N2)\n",
    "    normkminus = np.sum((np.abs(psikminus))**2)*dV*(N1*N2)\n",
    "    print('The norms of psikplus, and psikminus orbital', normkplus, normkminus, (normkplus - normkminus)/(normkplus + normkminus)*2.0)\n",
    "    normkplus_list.append(normkplus)\n",
    "    normkminus_list.append(normkminus)\n",
    "normkplus_array = np.array(normkplus_list)\n",
    "normkminus_array = np.array(normkminus_list)\n",
    "print(np.sum(normkplus_array)/(N1k*N2k))\n",
    "print(np.sum(normkminus_array)/(N1k*N2k))"
   ]
  },
  {
   "cell_type": "code",
   "execution_count": 11,
   "metadata": {
    "colab": {
     "base_uri": "https://localhost:8080/",
     "height": 449
    },
    "executionInfo": {
     "elapsed": 18,
     "status": "ok",
     "timestamp": 1683535625491,
     "user": {
      "displayName": "Yasushi Shinohara",
      "userId": "05093475804502242028"
     },
     "user_tz": -540
    },
    "id": "kl6EdDU7hRWi",
    "outputId": "16639a56-f088-4f11-d121-65d9524d0dee"
   },
   "outputs": [
    {
     "name": "stdout",
     "output_type": "stream",
     "text": [
      "(64, 2)\n"
     ]
    },
    {
     "data": {
      "image/png": "[encoded data removed]",
      "text/plain": [
       "<Figure size 432x288 with 2 Axes>"
      ]
     },
     "metadata": {
      "needs_background": "light"
     },
     "output_type": "display_data"
    }
   ],
   "source": [
    "k_array = np.array(k_list)\n",
    "print(k_array.shape)\n",
    "plt.figure()\n",
    "plt.scatter(k_array[:,0], k_array[:,1], s = 400, c=(normkplus_array - normkminus_array)/(normkplus_array + normkminus_array)*2.0, cmap=plt.cm.jet)\n",
    "#plt.plot(np.array([0.0, 1.0, 2.0]))\n",
    "plt.grid()\n",
    "plt.colorbar()\n",
    "plt.axis('scaled')\n",
    "plt.show()"
   ]
  },
  {
   "cell_type": "code",
   "execution_count": 12,
   "metadata": {
    "colab": {
     "base_uri": "https://localhost:8080/"
    },
    "executionInfo": {
     "elapsed": 301751,
     "status": "ok",
     "timestamp": 1683535927233,
     "user": {
      "displayName": "Yasushi Shinohara",
      "userId": "05093475804502242028"
     },
     "user_tz": -540
    },
    "id": "YYLukt2uhRWj",
    "outputId": "10171959-0557-4bed-b2fd-40fac6431369"
   },
   "outputs": [
    {
     "name": "stdout",
     "output_type": "stream",
     "text": [
      "[0. 0.]\n",
      "The norms of psikplus, and psikminus orbital 1.4912575748690273 0.6433154549198237 0.7944840566387938\n",
      "[0.09754756 0.16895733]\n",
      "The norms of psikplus, and psikminus orbital 1.5198082127564838 0.6171014902409659 0.8448711906256857\n",
      "[0.19509512 0.33791467]\n",
      "The norms of psikplus, and psikminus orbital 1.6041492463916136 0.5563314344547311 0.9699858195690148\n",
      "[0.29264269 0.506872  ]\n",
      "The norms of psikplus, and psikminus orbital 1.7096314297412116 0.528580016241559 1.0553528493650142\n",
      "[0.39019025 0.67582933]\n",
      "The norms of psikplus, and psikminus orbital 1.46135410604426 0.93324666416214 0.44108182746186997\n",
      "[0.48773781 0.84478667]\n",
      "The norms of psikplus, and psikminus orbital 0.8684003911710703 1.764713277689468 -0.6808007547249344\n",
      "[0.58528537 1.013744  ]\n",
      "The norms of psikplus, and psikminus orbital 0.6651703990676726 2.2566119547287466 -1.0893635205875167\n",
      "[0.68283293 1.18270133]\n",
      "The norms of psikplus, and psikminus orbital 0.6006434927795837 2.574521444067575 -1.2433230969399602\n",
      "[ 0.09754756 -0.16895733]\n",
      "The norms of psikplus, and psikminus orbital 1.5198082127564838 0.6171014902409659 0.8448711906256857\n",
      "[0.19509512 0.        ]\n",
      "The norms of psikplus, and psikminus orbital 1.5198082127564838 0.6171014902409659 0.8448711906256857\n",
      "[0.29264269 0.16895733]\n",
      "The norms of psikplus, and psikminus orbital 1.5771857118183223 0.5727150569213958 0.934434434837429\n",
      "[0.39019025 0.33791467]\n",
      "The norms of psikplus, and psikminus orbital 1.6877434650285184 0.512362426950288 1.0684767877432264\n",
      "[0.48773781 0.506872  ]\n",
      "The norms of psikplus, and psikminus orbital 1.732715724944972 0.5815046805353844 0.9949018180665758\n",
      "[0.58528537 0.67582933]\n",
      "The norms of psikplus, and psikminus orbital 1.0906672410138154 1.413735149373818 -0.2579999999999983\n",
      "[0.68283293 0.84478667]\n",
      "The norms of psikplus, and psikminus orbital 0.7202113474226236 2.036654077216895 -0.9550286481367922\n",
      "[0.78038049 1.013744  ]\n",
      "The norms of psikplus, and psikminus orbital 0.6198238902508969 2.396092322878137 -1.1779295624292887\n",
      "[ 0.19509512 -0.33791467]\n",
      "The norms of psikplus, and psikminus orbital 1.6041492463916136 0.5563314344547311 0.9699858195690148\n",
      "[ 0.29264269 -0.16895733]\n",
      "The norms of psikplus, and psikminus orbital 1.5771857118183223 0.5727150569213958 0.934434434837429\n",
      "[0.39019025 0.        ]\n",
      "The norms of psikplus, and psikminus orbital 1.6041492463916136 0.5563314344547311 0.9699858195690148\n",
      "[0.48773781 0.16895733]\n",
      "The norms of psikplus, and psikminus orbital 1.6877434650285184 0.512362426950288 1.0684767877432264\n",
      "[0.58528537 0.33791467]\n",
      "The norms of psikplus, and psikminus orbital 1.8320409710747043 0.4527581789504616 1.207355834414636\n",
      "[0.68283293 0.506872  ]\n",
      "The norms of psikplus, and psikminus orbital 1.5661821160288796 0.8587435611049429 0.5834723609014726\n",
      "[0.78038049 0.67582933]\n",
      "The norms of psikplus, and psikminus orbital 0.7199803759833696 1.8942236345854977 -0.8983562521171446\n",
      "[0.87792806 0.84478667]\n",
      "The norms of psikplus, and psikminus orbital 0.6114874067533391 2.2079424426681156 -1.132466577412712\n",
      "[ 0.29264269 -0.506872  ]\n",
      "The norms of psikplus, and psikminus orbital 1.7096314297412116 0.528580016241559 1.0553528493650142\n",
      "[ 0.39019025 -0.33791467]\n",
      "The norms of psikplus, and psikminus orbital 1.6877434650285184 0.512362426950288 1.0684767877432264\n",
      "[ 0.48773781 -0.16895733]\n",
      "The norms of psikplus, and psikminus orbital 1.6877434650285184 0.512362426950288 1.0684767877432264\n",
      "[0.58528537 0.        ]\n",
      "The norms of psikplus, and psikminus orbital 1.7096314297412116 0.528580016241559 1.0553528493650142\n",
      "[0.68283293 0.16895733]\n",
      "The norms of psikplus, and psikminus orbital 1.732715724944972 0.5815046805353844 0.9949018180665758\n",
      "[0.78038049 0.33791467]\n",
      "The norms of psikplus, and psikminus orbital 1.5661821160288791 0.8587435611049435 0.5834723609014716\n",
      "[0.87792806 0.506872  ]\n",
      "The norms of psikplus, and psikminus orbital 0.3743495487074228 2.1851337065153453 -1.4149607379637406\n",
      "[0.97547562 0.67582933]\n",
      "The norms of psikplus, and psikminus orbital 0.4486187570826572 2.2459656182122525 -1.3340438530026613\n",
      "[ 0.39019025 -0.67582933]\n",
      "The norms of psikplus, and psikminus orbital 1.46135410604426 0.93324666416214 0.44108182746186997\n",
      "[ 0.48773781 -0.506872  ]\n",
      "The norms of psikplus, and psikminus orbital 1.732715724944972 0.5815046805353844 0.9949018180665758\n",
      "[ 0.58528537 -0.33791467]\n",
      "The norms of psikplus, and psikminus orbital 1.8320409710747043 0.4527581789504616 1.207355834414636\n",
      "[ 0.68283293 -0.16895733]\n",
      "The norms of psikplus, and psikminus orbital 1.732715724944972 0.5815046805353844 0.9949018180665758\n",
      "[0.78038049 0.        ]\n",
      "The norms of psikplus, and psikminus orbital 1.46135410604426 0.93324666416214 0.44108182746186997\n",
      "[0.87792806 0.16895733]\n",
      "The norms of psikplus, and psikminus orbital 1.090667241013815 1.4137351493738186 -0.2579999999999991\n",
      "[0.97547562 0.33791467]\n",
      "The norms of psikplus, and psikminus orbital 0.71998037598337 1.8942236345854977 -0.8983562521171444\n",
      "[1.07302318 0.506872  ]\n",
      "The norms of psikplus, and psikminus orbital 0.44861875708265725 2.2459656182122525 -1.3340438530026613\n",
      "[ 0.48773781 -0.84478667]\n",
      "The norms of psikplus, and psikminus orbital 0.8684003911710703 1.764713277689468 -0.6808007547249344\n",
      "[ 0.58528537 -0.67582933]\n",
      "The norms of psikplus, and psikminus orbital 1.0906672410138154 1.413735149373818 -0.2579999999999983\n",
      "[ 0.68283293 -0.506872  ]\n",
      "The norms of psikplus, and psikminus orbital 1.5661821160288798 0.8587435611049432 0.5834723609014724\n",
      "[ 0.78038049 -0.33791467]\n",
      "The norms of psikplus, and psikminus orbital 1.5661821160288791 0.8587435611049435 0.5834723609014716\n",
      "[ 0.87792806 -0.16895733]\n",
      "The norms of psikplus, and psikminus orbital 1.090667241013815 1.4137351493738186 -0.2579999999999991\n",
      "[0.97547562 0.        ]\n",
      "The norms of psikplus, and psikminus orbital 0.8684003911710703 1.7647132776894683 -0.6808007547249346\n",
      "[1.07302318 0.16895733]\n",
      "The norms of psikplus, and psikminus orbital 0.7202113474226232 2.036654077216895 -0.9550286481367928\n",
      "[1.17057074 0.33791467]\n",
      "The norms of psikplus, and psikminus orbital 0.6114874067533391 2.2079424426681156 -1.132466577412712\n",
      "[ 0.58528537 -1.013744  ]\n",
      "The norms of psikplus, and psikminus orbital 0.6651703990676726 2.2566119547287466 -1.0893635205875167\n",
      "[ 0.68283293 -0.84478667]\n",
      "The norms of psikplus, and psikminus orbital 0.7202113474226236 2.036654077216895 -0.9550286481367922\n",
      "[ 0.78038049 -0.67582933]\n",
      "The norms of psikplus, and psikminus orbital 0.7199803759833696 1.8942236345854977 -0.8983562521171446\n",
      "[ 0.87792806 -0.506872  ]\n",
      "The norms of psikplus, and psikminus orbital 0.3743495487074228 2.1851337065153453 -1.4149607379637406\n",
      "[ 0.97547562 -0.33791467]\n",
      "The norms of psikplus, and psikminus orbital 0.71998037598337 1.8942236345854977 -0.8983562521171444\n",
      "[ 1.07302318 -0.16895733]\n",
      "The norms of psikplus, and psikminus orbital 0.7202113474226232 2.036654077216895 -0.9550286481367928\n",
      "[1.17057074 0.        ]\n",
      "The norms of psikplus, and psikminus orbital 0.6651703990676726 2.2566119547287466 -1.0893635205875167\n",
      "[1.2681183  0.16895733]\n",
      "The norms of psikplus, and psikminus orbital 0.6198238902508972 2.396092322878136 -1.177929562429288\n",
      "[ 0.68283293 -1.18270133]\n",
      "The norms of psikplus, and psikminus orbital 0.6006434927795837 2.574521444067575 -1.2433230969399602\n",
      "[ 0.78038049 -1.013744  ]\n",
      "The norms of psikplus, and psikminus orbital 0.6198238902508969 2.396092322878137 -1.1779295624292887\n",
      "[ 0.87792806 -0.84478667]\n",
      "The norms of psikplus, and psikminus orbital 0.6114874067533391 2.2079424426681156 -1.132466577412712\n",
      "[ 0.97547562 -0.67582933]\n",
      "The norms of psikplus, and psikminus orbital 0.4486187570826572 2.2459656182122525 -1.3340438530026613\n",
      "[ 1.07302318 -0.506872  ]\n",
      "The norms of psikplus, and psikminus orbital 0.44861875708265725 2.2459656182122525 -1.3340438530026613\n",
      "[ 1.17057074 -0.33791467]\n",
      "The norms of psikplus, and psikminus orbital 0.6114874067533391 2.2079424426681156 -1.132466577412712\n",
      "[ 1.2681183  -0.16895733]\n",
      "The norms of psikplus, and psikminus orbital 0.6198238902508972 2.396092322878136 -1.177929562429288\n",
      "[1.36566587 0.        ]\n",
      "The norms of psikplus, and psikminus orbital 0.6006434927795836 2.574521444067575 -1.2433230969399602\n",
      "1.1114937995306546\n",
      "1.427292872477361\n"
     ]
    }
   ],
   "source": [
    "Z = 3.13\n",
    "gamma = -3.033/Hartree2eV\n",
    "s = 0.129\n",
    "#\n",
    "k_list = []\n",
    "normkplus_list = []\n",
    "normkminus_list = []\n",
    "N1k = 8\n",
    "N2k = 8\n",
    "for i1 in range(N1k):\n",
    "    for i2 in range(N2k):\n",
    "        k = (i1/N1k)*b1 + (i2/N2k)*b2 \n",
    "        k_list.append(k)\n",
    "#\n",
    "for k in k_list:\n",
    "    print(k)\n",
    "    f, epsplus, epsminus, cAplus, cBplus, cAminus, cBminus = k2fepscAcB(k, a1, a2, RA[:2], RB[:2], gamma, s)\n",
    "    phinkA, N1, N2 = get_phink(r, RA, Z, k)\n",
    "    phinkB, N1, N2 = get_phink(r, RB, Z, k)\n",
    "    psikplus = cAplus*phinkA + cBplus*phinkB\n",
    "    psikminus = cAminus*phinkA + cBminus*phinkB\n",
    "    normkplus = np.sum((np.abs(psikplus))**2)*dV*(N1*N2)\n",
    "    normkminus = np.sum((np.abs(psikminus))**2)*dV*(N1*N2)\n",
    "    print('The norms of psikplus, and psikminus orbital', normkplus, normkminus, (normkplus - normkminus)/(normkplus + normkminus)*2.0)\n",
    "    normkplus_list.append(normkplus)\n",
    "    normkminus_list.append(normkminus)\n",
    "normkplus_array = np.array(normkplus_list)\n",
    "normkminus_array = np.array(normkminus_list)\n",
    "print(np.sum(normkplus_array)/(N1k*N2k))\n",
    "print(np.sum(normkminus_array)/(N1k*N2k))"
   ]
  },
  {
   "cell_type": "code",
   "execution_count": null,
   "metadata": {
    "executionInfo": {
     "elapsed": 20,
     "status": "ok",
     "timestamp": 1683535927234,
     "user": {
      "displayName": "Yasushi Shinohara",
      "userId": "05093475804502242028"
     },
     "user_tz": -540
    },
    "id": "JAnGTZRBhRWj"
   },
   "outputs": [],
   "source": []
  },
  {
   "cell_type": "code",
   "execution_count": 13,
   "metadata": {
    "colab": {
     "base_uri": "https://localhost:8080/",
     "height": 449
    },
    "executionInfo": {
     "elapsed": 19,
     "status": "ok",
     "timestamp": 1683535927235,
     "user": {
      "displayName": "Yasushi Shinohara",
      "userId": "05093475804502242028"
     },
     "user_tz": -540
    },
    "id": "r0ZIdR04hRWj",
    "outputId": "4dbff25e-7e69-440f-a55f-c2cfca7a57f1"
   },
   "outputs": [
    {
     "name": "stdout",
     "output_type": "stream",
     "text": [
      "(64, 2)\n"
     ]
    },
    {
     "data": {
      "image/png": "[encoded data removed]",
      "text/plain": [
       "<Figure size 432x288 with 2 Axes>"
      ]
     },
     "metadata": {
      "needs_background": "light"
     },
     "output_type": "display_data"
    }
   ],
   "source": [
    "k_array = np.array(k_list)\n",
    "print(k_array.shape)\n",
    "plt.figure()\n",
    "plt.scatter(k_array[:,0], k_array[:,1], s = 400, c=(normkplus_array - normkminus_array)/(normkplus_array + normkminus_array)*2.0, cmap=plt.cm.jet)\n",
    "#plt.plot(np.array([0.0, 1.0, 2.0]))\n",
    "plt.grid()\n",
    "plt.colorbar()\n",
    "plt.axis('scaled')\n",
    "plt.show()"
   ]
  },
  {
   "cell_type": "code",
   "execution_count": 14,
   "metadata": {
    "colab": {
     "base_uri": "https://localhost:8080/"
    },
    "executionInfo": {
     "elapsed": 291221,
     "status": "ok",
     "timestamp": 1683536218443,
     "user": {
      "displayName": "Yasushi Shinohara",
      "userId": "05093475804502242028"
     },
     "user_tz": -540
    },
    "id": "AIfk92WYhRWk",
    "outputId": "d98e8dcd-09ce-447d-fce1-1fe40920e098"
   },
   "outputs": [
    {
     "name": "stdout",
     "output_type": "stream",
     "text": [
      "[0. 0.]\n",
      "The norms of psikplus, and psikminus orbital 2.1845444864757457 0.32555179148501695 1.4812122636993035\n",
      "[0.09754756 0.16895733]\n",
      "The norms of psikplus, and psikminus orbital 2.2263655797485304 0.3123169652089982 1.507907019206731\n",
      "[0.19509512 0.33791467]\n",
      "The norms of psikplus, and psikminus orbital 2.3496559764387954 0.28403694494999454 1.5686103833240859\n",
      "[0.29264269 0.506872  ]\n",
      "The norms of psikplus, and psikminus orbital 2.4980356681437854 0.3168529068210921 1.5497471414831467\n",
      "[0.39019025 0.67582933]\n",
      "The norms of psikplus, and psikminus orbital 2.0570090470340787 1.0415192156380033 0.6554659149827124\n",
      "[0.48773781 0.84478667]\n",
      "The norms of psikplus, and psikminus orbital 1.0757004416646254 2.4068802616942295 -0.7644789501909989\n",
      "[0.58528537 1.013744  ]\n",
      "The norms of psikplus, and psikminus orbital 0.7620508712614017 3.158834435770829 -1.222572647157376\n",
      "[0.68283293 1.18270133]\n",
      "The norms of psikplus, and psikminus orbital 0.6722617720928521 3.6218802429418355 -1.3737871083544764\n",
      "[ 0.09754756 -0.16895733]\n",
      "The norms of psikplus, and psikminus orbital 2.2263655797485304 0.3123169652089982 1.507907019206731\n",
      "[0.19509512 0.        ]\n",
      "The norms of psikplus, and psikminus orbital 2.2263655797485304 0.3123169652089982 1.507907019206731\n",
      "[0.29264269 0.16895733]\n",
      "The norms of psikplus, and psikminus orbital 2.3104206871865465 0.2898242399826085 1.5541585533665319\n",
      "[0.39019025 0.33791467]\n",
      "The norms of psikplus, and psikminus orbital 2.471724997245334 0.26466884661951107 1.613112933705922\n",
      "[0.48773781 0.506872  ]\n",
      "The norms of psikplus, and psikminus orbital 2.515821397007437 0.44680148530514185 1.396748755337533\n",
      "[0.58528537 0.67582933]\n",
      "The norms of psikplus, and psikminus orbital 1.4302597214004331 1.853918743353715 -0.25799999999999806\n",
      "[0.68283293 0.84478667]\n",
      "The norms of psikplus, and psikminus orbital 0.8358426408834934 2.8419081663756343 -1.090919766250926\n",
      "[0.78038049 1.013744  ]\n",
      "The norms of psikplus, and psikminus orbital 0.691734047168962 3.3727510432300045 -1.3192406597303452\n",
      "[ 0.19509512 -0.33791467]\n",
      "The norms of psikplus, and psikminus orbital 2.3496559764387968 0.28403694494999454 1.568610383324086\n",
      "[ 0.29264269 -0.16895733]\n",
      "The norms of psikplus, and psikminus orbital 2.3104206871865465 0.2898242399826085 1.5541585533665319\n",
      "[0.39019025 0.        ]\n",
      "The norms of psikplus, and psikminus orbital 2.3496559764387954 0.28403694494999454 1.5686103833240859\n",
      "[0.48773781 0.16895733]\n",
      "The norms of psikplus, and psikminus orbital 2.471724997245334 0.2646688466195111 1.613112933705922\n",
      "[0.58528537 0.33791467]\n",
      "The norms of psikplus, and psikminus orbital 2.6837583726677243 0.2291196879222909 1.6853700248943728\n",
      "[0.68283293 0.506872  ]\n",
      "The norms of psikplus, and psikminus orbital 2.204565456551165 0.9583724802265298 0.7879971097973668\n",
      "[0.78038049 0.67582933]\n",
      "The norms of psikplus, and psikminus orbital 0.8035103957667865 2.666318271069431 -1.0737174968360317\n",
      "[0.87792806 0.84478667]\n",
      "The norms of psikplus, and psikminus orbital 0.6520145559873374 3.131518826107602 -1.3106818519715902\n",
      "[ 0.29264269 -0.506872  ]\n",
      "The norms of psikplus, and psikminus orbital 2.4980356681437854 0.3168529068210921 1.5497471414831467\n",
      "[ 0.39019025 -0.33791467]\n",
      "The norms of psikplus, and psikminus orbital 2.471724997245334 0.26466884661951107 1.613112933705922\n",
      "[ 0.48773781 -0.16895733]\n",
      "The norms of psikplus, and psikminus orbital 2.471724997245334 0.264668846619511 1.6131129337059227\n",
      "[0.58528537 0.        ]\n",
      "The norms of psikplus, and psikminus orbital 2.4980356681437854 0.31685290682109213 1.5497471414831467\n",
      "[0.68283293 0.16895733]\n",
      "The norms of psikplus, and psikminus orbital 2.515821397007437 0.44680148530514185 1.396748755337533\n",
      "[0.78038049 0.33791467]\n",
      "The norms of psikplus, and psikminus orbital 2.204565456551164 0.9583724802265308 0.7879971097973657\n",
      "[0.87792806 0.506872  ]\n",
      "The norms of psikplus, and psikminus orbital 0.18944075615049202 3.2010042203471487 -1.776500421079022\n",
      "[0.97547562 0.67582933]\n",
      "The norms of psikplus, and psikminus orbital 0.3446980457934266 3.2610360014022928 -1.6176112366784146\n",
      "[ 0.39019025 -0.67582933]\n",
      "The norms of psikplus, and psikminus orbital 2.0570090470340787 1.0415192156380033 0.6554659149827124\n",
      "[ 0.48773781 -0.506872  ]\n",
      "The norms of psikplus, and psikminus orbital 2.515821397007437 0.44680148530514185 1.396748755337533\n",
      "[ 0.58528537 -0.33791467]\n",
      "The norms of psikplus, and psikminus orbital 2.6837583726677243 0.2291196879222909 1.6853700248943728\n",
      "[ 0.68283293 -0.16895733]\n",
      "The norms of psikplus, and psikminus orbital 2.515821397007437 0.44680148530514185 1.396748755337533\n",
      "[0.78038049 0.        ]\n",
      "The norms of psikplus, and psikminus orbital 2.057009047034079 1.0415192156380033 0.6554659149827128\n",
      "[0.87792806 0.16895733]\n",
      "The norms of psikplus, and psikminus orbital 1.4302597214004322 1.8539187433537163 -0.25799999999999934\n",
      "[0.97547562 0.33791467]\n",
      "The norms of psikplus, and psikminus orbital 0.8035103957667868 2.666318271069431 -1.0737174968360315\n",
      "[1.07302318 0.506872  ]\n",
      "The norms of psikplus, and psikminus orbital 0.3446980457934269 3.2610360014022928 -1.617611236678414\n",
      "[ 0.48773781 -0.84478667]\n",
      "The norms of psikplus, and psikminus orbital 1.0757004416646254 2.4068802616942295 -0.7644789501909989\n",
      "[ 0.58528537 -0.67582933]\n",
      "The norms of psikplus, and psikminus orbital 1.4302597214004331 1.853918743353715 -0.25799999999999806\n",
      "[ 0.68283293 -0.506872  ]\n",
      "The norms of psikplus, and psikminus orbital 2.204565456551165 0.9583724802265301 0.7879971097973667\n",
      "[ 0.78038049 -0.33791467]\n",
      "The norms of psikplus, and psikminus orbital 2.204565456551164 0.9583724802265308 0.7879971097973657\n",
      "[ 0.87792806 -0.16895733]\n",
      "The norms of psikplus, and psikminus orbital 1.4302597214004322 1.8539187433537163 -0.25799999999999934\n",
      "[0.97547562 0.        ]\n",
      "The norms of psikplus, and psikminus orbital 1.0757004416646254 2.4068802616942295 -0.7644789501909989\n",
      "[1.07302318 0.16895733]\n",
      "The norms of psikplus, and psikminus orbital 0.8358426408834934 2.841908166375634 -1.0909197662509258\n",
      "[1.17057074 0.33791467]\n",
      "The norms of psikplus, and psikminus orbital 0.6520145559873374 3.131518826107602 -1.3106818519715902\n",
      "[ 0.58528537 -1.013744  ]\n",
      "The norms of psikplus, and psikminus orbital 0.7620508712614017 3.158834435770829 -1.222572647157376\n",
      "[ 0.68283293 -0.84478667]\n",
      "The norms of psikplus, and psikminus orbital 0.8358426408834934 2.8419081663756343 -1.090919766250926\n",
      "[ 0.78038049 -0.67582933]\n",
      "The norms of psikplus, and psikminus orbital 0.8035103957667865 2.666318271069431 -1.0737174968360317\n",
      "[ 0.87792806 -0.506872  ]\n",
      "The norms of psikplus, and psikminus orbital 0.18944075615049202 3.2010042203471487 -1.776500421079022\n",
      "[ 0.97547562 -0.33791467]\n",
      "The norms of psikplus, and psikminus orbital 0.8035103957667868 2.666318271069431 -1.0737174968360315\n",
      "[ 1.07302318 -0.16895733]\n",
      "The norms of psikplus, and psikminus orbital 0.8358426408834934 2.841908166375634 -1.0909197662509258\n",
      "[1.17057074 0.        ]\n",
      "The norms of psikplus, and psikminus orbital 0.7620508712614017 3.1588344357708285 -1.222572647157376\n",
      "[1.2681183  0.16895733]\n",
      "The norms of psikplus, and psikminus orbital 0.6917340471689624 3.3727510432300045 -1.319240659730345\n",
      "[ 0.68283293 -1.18270133]\n",
      "The norms of psikplus, and psikminus orbital 0.6722617720928521 3.6218802429418355 -1.3737871083544764\n",
      "[ 0.78038049 -1.013744  ]\n",
      "The norms of psikplus, and psikminus orbital 0.691734047168962 3.3727510432300045 -1.3192406597303452\n",
      "[ 0.87792806 -0.84478667]\n",
      "The norms of psikplus, and psikminus orbital 0.6520145559873374 3.131518826107602 -1.3106818519715902\n",
      "[ 0.97547562 -0.67582933]\n",
      "The norms of psikplus, and psikminus orbital 0.3446980457934265 3.2610360014022928 -1.6176112366784146\n",
      "[ 1.07302318 -0.506872  ]\n",
      "The norms of psikplus, and psikminus orbital 0.3446980457934269 3.2610360014022928 -1.617611236678414\n",
      "[ 1.17057074 -0.33791467]\n",
      "The norms of psikplus, and psikminus orbital 0.6520145559873374 3.131518826107602 -1.3106818519715902\n",
      "[ 1.2681183  -0.16895733]\n",
      "The norms of psikplus, and psikminus orbital 0.6917340471689624 3.3727510432300045 -1.319240659730345\n",
      "[1.36566587 0.        ]\n",
      "The norms of psikplus, and psikminus orbital 0.6722617720928519 3.6218802429418355 -1.3737871083544764\n",
      "1.4886829252946092\n",
      "1.8184622884659922\n"
     ]
    }
   ],
   "source": [
    "Z = 2.5\n",
    "gamma = -3.033/Hartree2eV\n",
    "s = 0.129\n",
    "#\n",
    "k_list = []\n",
    "normkplus_list = []\n",
    "normkminus_list = []\n",
    "N1k = 8\n",
    "N2k = 8\n",
    "for i1 in range(N1k):\n",
    "    for i2 in range(N2k):\n",
    "        k = (i1/N1k)*b1 + (i2/N2k)*b2 \n",
    "        k_list.append(k)\n",
    "#\n",
    "for k in k_list:\n",
    "    print(k)\n",
    "    f, epsplus, epsminus, cAplus, cBplus, cAminus, cBminus = k2fepscAcB(k, a1, a2, RA[:2], RB[:2], gamma, s)\n",
    "    phinkA, N1, N2 = get_phink(r, RA, Z, k)\n",
    "    phinkB, N1, N2 = get_phink(r, RB, Z, k)\n",
    "    psikplus = cAplus*phinkA + cBplus*phinkB\n",
    "    psikminus = cAminus*phinkA + cBminus*phinkB\n",
    "    normkplus = np.sum((np.abs(psikplus))**2)*dV*(N1*N2)\n",
    "    normkminus = np.sum((np.abs(psikminus))**2)*dV*(N1*N2)\n",
    "    print('The norms of psikplus, and psikminus orbital', normkplus, normkminus, (normkplus - normkminus)/(normkplus + normkminus)*2.0)\n",
    "    normkplus_list.append(normkplus)\n",
    "    normkminus_list.append(normkminus)\n",
    "normkplus_array = np.array(normkplus_list)\n",
    "normkminus_array = np.array(normkminus_list)\n",
    "print(np.sum(normkplus_array)/(N1k*N2k))\n",
    "print(np.sum(normkminus_array)/(N1k*N2k))"
   ]
  },
  {
   "cell_type": "code",
   "execution_count": 15,
   "metadata": {
    "colab": {
     "base_uri": "https://localhost:8080/",
     "height": 471
    },
    "executionInfo": {
     "elapsed": 17,
     "status": "ok",
     "timestamp": 1683536218445,
     "user": {
      "displayName": "Yasushi Shinohara",
      "userId": "05093475804502242028"
     },
     "user_tz": -540
    },
    "id": "ipOegv-ahRWk",
    "outputId": "f9d9b103-d9e6-42d8-bae7-b488763dec6c"
   },
   "outputs": [
    {
     "name": "stdout",
     "output_type": "stream",
     "text": [
      "(64, 2)\n"
     ]
    },
    {
     "data": {
      "image/png": "[encoded data removed]",
      "text/plain": [
       "<Figure size 432x288 with 2 Axes>"
      ]
     },
     "metadata": {
      "needs_background": "light"
     },
     "output_type": "display_data"
    }
   ],
   "source": [
    "k_array = np.array(k_list)\n",
    "print(k_array.shape)\n",
    "plt.figure()\n",
    "plt.title('The effectie carge: Z = '+str(Z))\n",
    "plt.scatter(k_array[:,0], k_array[:,1], s = 400, c=(normkplus_array - normkminus_array)/(normkplus_array + normkminus_array)*2.0, cmap=plt.cm.jet)\n",
    "#plt.plot(np.array([0.0, 1.0, 2.0]))\n",
    "plt.grid()\n",
    "plt.colorbar()\n",
    "plt.axis('scaled')\n",
    "plt.show()"
   ]
  },
  {
   "cell_type": "code",
   "execution_count": 16,
   "metadata": {
    "colab": {
     "background_save": true,
     "base_uri": "https://localhost:8080/"
    },
    "id": "FJQVS8vKhRWk"
   },
   "outputs": [
    {
     "name": "stdout",
     "output_type": "stream",
     "text": [
      "[0. 0.]\n",
      "The norms of psikplus, and psikminus orbital 0.7701952789861274 1.5246443014413804 -0.6575178752274318\n",
      "[0.09754756 0.16895733]\n",
      "The norms of psikplus, and psikminus orbital 0.7849462678219583 1.4624581477098684 -0.6029283160659658\n",
      "[0.19509512 0.33791467]\n",
      "The norms of psikplus, and psikminus orbital 0.8290104385314538 1.3136542073463693 -0.4523748219277337\n",
      "[0.29264269 0.506872  ]\n",
      "The norms of psikplus, and psikminus orbital 0.8953605811526113 1.1573016231852948 -0.25522079714735485\n",
      "[0.39019025 0.67582933]\n",
      "The norms of psikplus, and psikminus orbital 0.9166052950940751 1.1113897021539774 -0.1920955498649856\n",
      "[0.48773781 0.84478667]\n",
      "The norms of psikplus, and psikminus orbital 0.8281967010266437 1.2559944939722858 -0.4105168412304533\n",
      "[0.58528537 1.013744  ]\n",
      "The norms of psikplus, and psikminus orbital 0.7540423740510008 1.4494045919711513 -0.6311585698615446\n",
      "[0.68283293 1.18270133]\n",
      "The norms of psikplus, and psikminus orbital 0.7115601631277242 1.6187385428774632 -0.7785940724353811\n",
      "[ 0.09754756 -0.16895733]\n",
      "The norms of psikplus, and psikminus orbital 0.7849462678219583 1.4624581477098684 -0.6029283160659658\n",
      "[0.19509512 0.        ]\n",
      "The norms of psikplus, and psikminus orbital 0.7849462678219583 1.4624581477098684 -0.6029283160659658\n",
      "[0.29264269 0.16895733]\n",
      "The norms of psikplus, and psikminus orbital 0.8145748996001132 1.3573228207205232 -0.49979141839173197\n",
      "[0.39019025 0.33791467]\n",
      "The norms of psikplus, and psikminus orbital 0.8729351043871177 1.2038764324428886 -0.31870135752511414\n",
      "[0.48773781 0.506872  ]\n",
      "The norms of psikplus, and psikminus orbital 0.9382708048137529 1.0833066246872536 -0.14348777123941317\n",
      "[0.58528537 0.67582933]\n",
      "The norms of psikplus, and psikminus orbital 0.8870096584310563 1.1497518993899676 -0.25799999999999923\n",
      "[0.68283293 0.84478667]\n",
      "The norms of psikplus, and psikminus orbital 0.7956873470107859 1.3255758669401385 -0.4995971423484192\n",
      "[0.78038049 1.013744  ]\n",
      "The norms of psikplus, and psikminus orbital 0.7381391385870326 1.5029012486435958 -0.6825063166323566\n",
      "[ 0.19509512 -0.33791467]\n",
      "The norms of psikplus, and psikminus orbital 0.8290104385314541 1.3136542073463686 -0.452374821927733\n",
      "[ 0.29264269 -0.16895733]\n",
      "The norms of psikplus, and psikminus orbital 0.8145748996001132 1.3573228207205232 -0.49979141839173197\n",
      "[0.39019025 0.        ]\n",
      "The norms of psikplus, and psikminus orbital 0.8290104385314538 1.3136542073463693 -0.4523748219277337\n",
      "[0.48773781 0.16895733]\n",
      "The norms of psikplus, and psikminus orbital 0.8729351043871177 1.2038764324428888 -0.31870135752511436\n",
      "[0.58528537 0.33791467]\n",
      "The norms of psikplus, and psikminus orbital 0.9462009317570933 1.0730275049179867 -0.1256188461467289\n",
      "[0.68283293 0.506872  ]\n",
      "The norms of psikplus, and psikminus orbital 0.9823565792138225 1.0226650544311564 -0.040207521495971246\n",
      "[0.78038049 0.67582933]\n",
      "The norms of psikplus, and psikminus orbital 0.8574140217680376 1.1881140966259593 -0.3233395541074878\n",
      "[0.87792806 0.84478667]\n",
      "The norms of psikplus, and psikminus orbital 0.7870068283623693 1.3392515288173952 -0.5194521151112742\n",
      "[ 0.29264269 -0.506872  ]\n",
      "The norms of psikplus, and psikminus orbital 0.8953605811526113 1.1573016231852948 -0.25522079714735485\n",
      "[ 0.39019025 -0.33791467]\n",
      "The norms of psikplus, and psikminus orbital 0.8729351043871177 1.2038764324428886 -0.31870135752511414\n",
      "[ 0.48773781 -0.16895733]\n",
      "The norms of psikplus, and psikminus orbital 0.8729351043871177 1.2038764324428888 -0.31870135752511436\n",
      "[0.58528537 0.        ]\n",
      "The norms of psikplus, and psikminus orbital 0.8953605811526115 1.1573016231852948 -0.2552207971473546\n",
      "[0.68283293 0.16895733]\n",
      "The norms of psikplus, and psikminus orbital 0.9382708048137529 1.0833066246872536 -0.14348777123941317\n",
      "[0.78038049 0.33791467]\n",
      "The norms of psikplus, and psikminus orbital 0.9823565792138225 1.0226650544311566 -0.04020752149597146\n",
      "[0.87792806 0.506872  ]\n",
      "The norms of psikplus, and psikminus orbital 0.8872006755302612 1.1285640341906649 -0.23947572600754524\n",
      "[0.97547562 0.67582933]\n",
      "The norms of psikplus, and psikminus orbital 0.8357485120483605 1.2161971740926834 -0.37081747788344926\n",
      "[ 0.39019025 -0.67582933]\n",
      "The norms of psikplus, and psikminus orbital 0.9166052950940751 1.1113897021539774 -0.1920955498649856\n",
      "[ 0.48773781 -0.506872  ]\n",
      "The norms of psikplus, and psikminus orbital 0.9382708048137529 1.0833066246872536 -0.14348777123941317\n",
      "[ 0.58528537 -0.33791467]\n",
      "The norms of psikplus, and psikminus orbital 0.9462009317570933 1.0730275049179867 -0.1256188461467289\n",
      "[ 0.68283293 -0.16895733]\n",
      "The norms of psikplus, and psikminus orbital 0.9382708048137529 1.0833066246872536 -0.14348777123941317\n",
      "[0.78038049 0.        ]\n",
      "The norms of psikplus, and psikminus orbital 0.9166052950940751 1.1113897021539774 -0.1920955498649856\n",
      "[0.87792806 0.16895733]\n",
      "The norms of psikplus, and psikminus orbital 0.8870096584310563 1.149751899389968 -0.2579999999999996\n",
      "[0.97547562 0.33791467]\n",
      "The norms of psikplus, and psikminus orbital 0.8574140217680378 1.1881140966259593 -0.32333955410748755\n",
      "[1.07302318 0.506872  ]\n",
      "The norms of psikplus, and psikminus orbital 0.8357485120483605 1.2161971740926827 -0.37081747788344865\n",
      "[ 0.48773781 -0.84478667]\n",
      "The norms of psikplus, and psikminus orbital 0.8281967010266437 1.2559944939722858 -0.4105168412304533\n",
      "[ 0.58528537 -0.67582933]\n",
      "The norms of psikplus, and psikminus orbital 0.8870096584310563 1.1497518993899676 -0.25799999999999923\n",
      "[ 0.68283293 -0.506872  ]\n",
      "The norms of psikplus, and psikminus orbital 0.9823565792138229 1.0226650544311564 -0.040207521495970795\n",
      "[ 0.78038049 -0.33791467]\n",
      "The norms of psikplus, and psikminus orbital 0.9823565792138225 1.0226650544311566 -0.04020752149597146\n",
      "[ 0.87792806 -0.16895733]\n",
      "The norms of psikplus, and psikminus orbital 0.8870096584310563 1.149751899389968 -0.2579999999999996\n",
      "[0.97547562 0.        ]\n",
      "The norms of psikplus, and psikminus orbital 0.8281967010266437 1.2559944939722858 -0.4105168412304533\n",
      "[1.07302318 0.16895733]\n",
      "The norms of psikplus, and psikminus orbital 0.7956873470107854 1.3255758669401385 -0.49959714234841984\n",
      "[1.17057074 0.33791467]\n",
      "The norms of psikplus, and psikminus orbital 0.7870068283623693 1.3392515288173952 -0.5194521151112742\n",
      "[ 0.58528537 -1.013744  ]\n",
      "The norms of psikplus, and psikminus orbital 0.7540423740510008 1.4494045919711513 -0.6311585698615446\n",
      "[ 0.68283293 -0.84478667]\n",
      "The norms of psikplus, and psikminus orbital 0.7956873470107859 1.3255758669401385 -0.4995971423484192\n",
      "[ 0.78038049 -0.67582933]\n",
      "The norms of psikplus, and psikminus orbital 0.8574140217680376 1.1881140966259593 -0.3233395541074878\n",
      "[ 0.87792806 -0.506872  ]\n",
      "The norms of psikplus, and psikminus orbital 0.8872006755302612 1.1285640341906649 -0.23947572600754524\n",
      "[ 0.97547562 -0.33791467]\n",
      "The norms of psikplus, and psikminus orbital 0.8574140217680378 1.1881140966259593 -0.32333955410748755\n",
      "[ 1.07302318 -0.16895733]\n",
      "The norms of psikplus, and psikminus orbital 0.7956873470107854 1.3255758669401385 -0.49959714234841984\n",
      "[1.17057074 0.        ]\n",
      "The norms of psikplus, and psikminus orbital 0.7540423740510008 1.4494045919711513 -0.6311585698615446\n",
      "[1.2681183  0.16895733]\n",
      "The norms of psikplus, and psikminus orbital 0.7381391385870327 1.5029012486435958 -0.6825063166323565\n",
      "[ 0.68283293 -1.18270133]\n",
      "The norms of psikplus, and psikminus orbital 0.7115601631277242 1.6187385428774632 -0.7785940724353811\n",
      "[ 0.78038049 -1.013744  ]\n",
      "The norms of psikplus, and psikminus orbital 0.7381391385870326 1.5029012486435958 -0.6825063166323566\n",
      "[ 0.87792806 -0.84478667]\n",
      "The norms of psikplus, and psikminus orbital 0.7870068283623693 1.3392515288173952 -0.5194521151112742\n",
      "[ 0.97547562 -0.67582933]\n",
      "The norms of psikplus, and psikminus orbital 0.8357485120483603 1.216197174092683 -0.3708174778834491\n",
      "[ 1.07302318 -0.506872  ]\n",
      "The norms of psikplus, and psikminus orbital 0.8357485120483605 1.2161971740926827 -0.37081747788344865\n",
      "[ 1.17057074 -0.33791467]\n",
      "The norms of psikplus, and psikminus orbital 0.7870068283623693 1.3392515288173952 -0.5194521151112742\n",
      "[ 1.2681183  -0.16895733]\n",
      "The norms of psikplus, and psikminus orbital 0.7381391385870327 1.5029012486435958 -0.6825063166323565\n",
      "[1.36566587 0.        ]\n",
      "The norms of psikplus, and psikminus orbital 0.7115601631277241 1.6187385428774632 -0.7785940724353814\n",
      "0.8438060270885439\n",
      "1.2636852602036424\n"
     ]
    }
   ],
   "source": [
    "Z = 6.0\n",
    "gamma = -3.033/Hartree2eV\n",
    "s = 0.129\n",
    "#\n",
    "k_list = []\n",
    "normkplus_list = []\n",
    "normkminus_list = []\n",
    "N1k = 8\n",
    "N2k = 8\n",
    "for i1 in range(N1k):\n",
    "    for i2 in range(N2k):\n",
    "        k = (i1/N1k)*b1 + (i2/N2k)*b2 \n",
    "        k_list.append(k)\n",
    "#\n",
    "for k in k_list:\n",
    "    print(k)\n",
    "    f, epsplus, epsminus, cAplus, cBplus, cAminus, cBminus = k2fepscAcB(k, a1, a2, RA[:2], RB[:2], gamma, s)\n",
    "    phinkA, N1, N2 = get_phink(r, RA, Z, k)\n",
    "    phinkB, N1, N2 = get_phink(r, RB, Z, k)\n",
    "    psikplus = cAplus*phinkA + cBplus*phinkB\n",
    "    psikminus = cAminus*phinkA + cBminus*phinkB\n",
    "    normkplus = np.sum((np.abs(psikplus))**2)*dV*(N1*N2)\n",
    "    normkminus = np.sum((np.abs(psikminus))**2)*dV*(N1*N2)\n",
    "    print('The norms of psikplus, and psikminus orbital', normkplus, normkminus, (normkplus - normkminus)/(normkplus + normkminus)*2.0)\n",
    "    normkplus_list.append(normkplus)\n",
    "    normkminus_list.append(normkminus)\n",
    "normkplus_array = np.array(normkplus_list)\n",
    "normkminus_array = np.array(normkminus_list)\n",
    "print(np.sum(normkplus_array)/(N1k*N2k))\n",
    "print(np.sum(normkminus_array)/(N1k*N2k))"
   ]
  },
  {
   "cell_type": "code",
   "execution_count": 17,
   "metadata": {
    "colab": {
     "background_save": true
    },
    "id": "ELP1vwsqhRWl"
   },
   "outputs": [
    {
     "name": "stdout",
     "output_type": "stream",
     "text": [
      "(64, 2)\n"
     ]
    },
    {
     "data": {
      "image/png": "[encoded data removed]",
      "text/plain": [
       "<Figure size 432x288 with 2 Axes>"
      ]
     },
     "metadata": {
      "needs_background": "light"
     },
     "output_type": "display_data"
    }
   ],
   "source": [
    "k_array = np.array(k_list)\n",
    "print(k_array.shape)\n",
    "plt.figure()\n",
    "plt.title('The effectie carge: Z = '+str(Z))\n",
    "plt.scatter(k_array[:,0], k_array[:,1], s = 400, c=(normkplus_array - normkminus_array)/(normkplus_array + normkminus_array)*2.0, cmap=plt.cm.jet)\n",
    "#plt.plot(np.array([0.0, 1.0, 2.0]))\n",
    "plt.grid()\n",
    "plt.colorbar()\n",
    "plt.axis('scaled')\n",
    "plt.show()"
   ]
  },
  {
   "cell_type": "code",
   "execution_count": 18,
   "metadata": {
    "colab": {
     "background_save": true
    },
    "id": "6eJZeUk9C0WT"
   },
   "outputs": [
    {
     "name": "stdout",
     "output_type": "stream",
     "text": [
      "[0. 0.]\n",
      "The norm of psikplus orbital 1.4912575748690273\n",
      "The norm of psikminus orbital 0.6433154549198237\n",
      "[0.19509512 0.33791467]\n",
      "The norm of psikplus orbital 1.6041492463916136\n",
      "The norm of psikminus orbital 0.5563314344547311\n",
      "[0.39019025 0.67582933]\n",
      "The norm of psikplus orbital 1.46135410604426\n",
      "The norm of psikminus orbital 0.93324666416214\n",
      "[0.58528537 1.013744  ]\n",
      "The norm of psikplus orbital 0.6651703990676726\n",
      "The norm of psikminus orbital 2.2566119547287466\n",
      "[ 0.19509512 -0.33791467]\n",
      "The norm of psikplus orbital 1.6041492463916136\n",
      "The norm of psikminus orbital 0.5563314344547311\n",
      "[0.39019025 0.        ]\n",
      "The norm of psikplus orbital 1.6041492463916136\n",
      "The norm of psikminus orbital 0.5563314344547311\n",
      "[0.58528537 0.33791467]\n",
      "The norm of psikplus orbital 1.8320409710747043\n",
      "The norm of psikminus orbital 0.4527581789504616\n",
      "[0.78038049 0.67582933]\n",
      "The norm of psikplus orbital 0.7199803759833696\n",
      "The norm of psikminus orbital 1.8942236345854977\n",
      "[ 0.39019025 -0.67582933]\n",
      "The norm of psikplus orbital 1.46135410604426\n",
      "The norm of psikminus orbital 0.93324666416214\n",
      "[ 0.58528537 -0.33791467]\n",
      "The norm of psikplus orbital 1.8320409710747043\n",
      "The norm of psikminus orbital 0.4527581789504616\n",
      "[0.78038049 0.        ]\n",
      "The norm of psikplus orbital 1.46135410604426\n",
      "The norm of psikminus orbital 0.93324666416214\n",
      "[0.97547562 0.33791467]\n",
      "The norm of psikplus orbital 0.71998037598337\n",
      "The norm of psikminus orbital 1.8942236345854977\n",
      "[ 0.58528537 -1.013744  ]\n",
      "The norm of psikplus orbital 0.6651703990676726\n",
      "The norm of psikminus orbital 2.2566119547287466\n",
      "[ 0.78038049 -0.67582933]\n",
      "The norm of psikplus orbital 0.7199803759833696\n",
      "The norm of psikminus orbital 1.8942236345854977\n",
      "[ 0.97547562 -0.33791467]\n",
      "The norm of psikplus orbital 0.71998037598337\n",
      "The norm of psikminus orbital 1.8942236345854977\n",
      "[1.17057074 0.        ]\n",
      "The norm of psikplus orbital 0.6651703990676726\n",
      "The norm of psikminus orbital 2.2566119547287466\n",
      "1.2017051422164098\n",
      "1.2727685319499744\n"
     ]
    }
   ],
   "source": [
    "k_list = []\n",
    "normkplus_list = []\n",
    "normkminus_list = []\n",
    "Z = 3.13\n",
    "gamma = -3.033/Hartree2eV\n",
    "s = 0.129\n",
    "N1k = 4\n",
    "N2k = 4\n",
    "for i1 in range(N1k):\n",
    "    for i2 in range(N2k):\n",
    "        k = (i1/N1k)*b1 + (i2/N2k)*b2 \n",
    "        k_list.append(k)\n",
    "#\n",
    "for k in k_list:\n",
    "    print(k)\n",
    "    f, epsplus, epsminus, cAplus, cBplus, cAminus, cBminus = k2fepscAcB(k, a1, a2, RA[:2], RB[:2], gamma, s)\n",
    "    phinkA, N1, N2 = get_phink(r, RA, Z, k)\n",
    "    phinkB, N1, N2 = get_phink(r, RB, Z, k)\n",
    "    psikplus = cAplus*phinkA + cBplus*phinkB\n",
    "    psikminus = cAminus*phinkA + cBminus*phinkB\n",
    "    normkplus = np.sum((np.abs(psikplus))**2)*dV*(N1*N2)\n",
    "    normkminus = np.sum((np.abs(psikminus))**2)*dV*(N1*N2)\n",
    "    print('The norm of psikplus orbital', normkplus)\n",
    "    print('The norm of psikminus orbital', normkminus)\n",
    "    normkplus_list.append(normkplus)\n",
    "    normkminus_list.append(normkminus)\n",
    "normkplus_array = np.array(normkplus_list)\n",
    "normkminus_array = np.array(normkminus_list)\n",
    "print(np.sum(normkplus_array)/(N1k*N2k))\n",
    "print(np.sum(normkminus_array)/(N1k*N2k))"
   ]
  },
  {
   "cell_type": "code",
   "execution_count": 19,
   "metadata": {
    "colab": {
     "background_save": true
    },
    "id": "Pbq2xe_AGgRc"
   },
   "outputs": [
    {
     "name": "stdout",
     "output_type": "stream",
     "text": [
      "[0. 0.]\n",
      "The norm of psikplus orbital 2.345716742544458\n",
      "The norm of psikminus orbital 0.28110084278813335\n",
      "[0.19509512 0.33791467]\n",
      "The norm of psikplus orbital 2.5229806371161323\n",
      "The norm of psikminus orbital 0.24605892998083603\n",
      "[0.39019025 0.67582933]\n",
      "The norm of psikplus orbital 2.1994778968903077\n",
      "The norm of psikminus orbital 1.0822197393216242\n",
      "[0.58528537 1.013744  ]\n",
      "The norm of psikplus orbital 0.7947019882903777\n",
      "The norm of psikminus orbital 3.3755847213005494\n",
      "[ 0.19509512 -0.33791467]\n",
      "The norm of psikplus orbital 2.5229806371161336\n",
      "The norm of psikminus orbital 0.24605892998083603\n",
      "[0.39019025 0.        ]\n",
      "The norm of psikplus orbital 2.5229806371161323\n",
      "The norm of psikminus orbital 0.24605892998083603\n",
      "[0.58528537 0.33791467]\n",
      "The norm of psikplus orbital 2.881761844029375\n",
      "The norm of psikminus orbital 0.19783561036639008\n",
      "[0.78038049 0.67582933]\n",
      "The norm of psikplus orbital 0.8349100026121664\n",
      "The norm of psikminus orbital 2.8509879972320946\n",
      "[ 0.39019025 -0.67582933]\n",
      "The norm of psikplus orbital 2.1994778968903077\n",
      "The norm of psikminus orbital 1.0822197393216242\n",
      "[ 0.58528537 -0.33791467]\n",
      "The norm of psikplus orbital 2.881761844029375\n",
      "The norm of psikminus orbital 0.19783561036639008\n",
      "[0.78038049 0.        ]\n",
      "The norm of psikplus orbital 2.1994778968903077\n",
      "The norm of psikminus orbital 1.0822197393216237\n",
      "[0.97547562 0.33791467]\n",
      "The norm of psikplus orbital 0.8349100026121665\n",
      "The norm of psikminus orbital 2.8509879972320946\n",
      "[ 0.58528537 -1.013744  ]\n",
      "The norm of psikplus orbital 0.7947019882903777\n",
      "The norm of psikminus orbital 3.3755847213005494\n",
      "[ 0.78038049 -0.67582933]\n",
      "The norm of psikplus orbital 0.8349100026121664\n",
      "The norm of psikminus orbital 2.8509879972320946\n",
      "[ 0.97547562 -0.33791467]\n",
      "The norm of psikplus orbital 0.8349100026121665\n",
      "The norm of psikminus orbital 2.8509879972320946\n",
      "[1.17057074 0.        ]\n",
      "The norm of psikplus orbital 0.7947019882903777\n",
      "The norm of psikminus orbital 3.3755847213005494\n",
      "1.7500226254963955\n",
      "1.6370196390161451\n"
     ]
    }
   ],
   "source": [
    "k_list = []\n",
    "normkplus_list = []\n",
    "normkminus_list = []\n",
    "Z = 2.4\n",
    "gamma = -3.033/Hartree2eV\n",
    "s = 0.129\n",
    "N1k = 4\n",
    "N2k = 4\n",
    "for i1 in range(N1k):\n",
    "    for i2 in range(N2k):\n",
    "        k = (i1/N1k)*b1 + (i2/N2k)*b2 \n",
    "        k_list.append(k)\n",
    "#\n",
    "for k in k_list:\n",
    "    print(k)\n",
    "    f, epsplus, epsminus, cAplus, cBplus, cAminus, cBminus = k2fepscAcB(k, a1, a2, RA[:2], RB[:2], gamma, s)\n",
    "    phinkA, N1, N2 = get_phink(r, RA, Z, k)\n",
    "    phinkB, N1, N2 = get_phink(r, RB, Z, k)\n",
    "    psikplus = cAplus*phinkA + cBplus*phinkB\n",
    "    psikminus = cAminus*phinkA + cBminus*phinkB\n",
    "    normkplus = np.sum((np.abs(psikplus))**2)*dV*(N1*N2)\n",
    "    normkminus = np.sum((np.abs(psikminus))**2)*dV*(N1*N2)\n",
    "    print('The norm of psikplus orbital', normkplus)\n",
    "    print('The norm of psikminus orbital', normkminus)\n",
    "    normkplus_list.append(normkplus)\n",
    "    normkminus_list.append(normkminus)\n",
    "normkplus_array = np.array(normkplus_list)\n",
    "normkminus_array = np.array(normkminus_list)\n",
    "print(np.sum(normkplus_array)/(N1k*N2k))\n",
    "print(np.sum(normkminus_array)/(N1k*N2k))"
   ]
  },
  {
   "cell_type": "code",
   "execution_count": 20,
   "metadata": {
    "colab": {
     "background_save": true
    },
    "id": "rzC4NkPvHN0h"
   },
   "outputs": [
    {
     "name": "stdout",
     "output_type": "stream",
     "text": [
      "[0. 0.]\n",
      "The norm of psikplus orbital 2.345716742544458\n",
      "The norm of psikminus orbital 0.28110084278813335\n",
      "[0.09754756 0.16895733]\n",
      "The norm of psikplus orbital 2.39062302389295\n",
      "The norm of psikminus orbital 0.26968301104406506\n",
      "[0.19509512 0.33791467]\n",
      "The norm of psikplus orbital 2.5229806371161323\n",
      "The norm of psikminus orbital 0.24605892998083603\n",
      "[0.29264269 0.506872  ]\n",
      "The norm of psikplus orbital 2.6816258682058542\n",
      "The norm of psikminus orbital 0.2894510930063004\n",
      "[0.39019025 0.67582933]\n",
      "The norm of psikplus orbital 2.1994778968903077\n",
      "The norm of psikminus orbital 1.0822197393216242\n",
      "[0.48773781 0.84478667]\n",
      "The norm of psikplus orbital 1.133261230563797\n",
      "The norm of psikminus orbital 2.5646703154119885\n",
      "[0.58528537 1.013744  ]\n",
      "The norm of psikplus orbital 0.7947019882903777\n",
      "The norm of psikminus orbital 3.3755847213005494\n",
      "[0.68283293 1.18270133]\n",
      "The norm of psikplus orbital 0.6988141351012994\n",
      "The norm of psikminus orbital 3.8724980506217617\n",
      "[ 0.09754756 -0.16895733]\n",
      "The norm of psikplus orbital 2.39062302389295\n",
      "The norm of psikminus orbital 0.26968301104406506\n",
      "[0.19509512 0.        ]\n",
      "The norm of psikplus orbital 2.39062302389295\n",
      "The norm of psikminus orbital 0.26968301104406506\n",
      "[0.29264269 0.16895733]\n",
      "The norm of psikplus orbital 2.4808798913487937\n",
      "The norm of psikminus orbital 0.25025154292014073\n",
      "[0.39019025 0.33791467]\n",
      "The norm of psikplus orbital 2.6540126255941954\n",
      "The norm of psikminus orbital 0.23026157824510318\n",
      "[0.48773781 0.506872  ]\n",
      "The norm of psikplus orbital 2.6989444113847423\n",
      "The norm of psikminus orbital 0.43480562351884716\n",
      "[0.58528537 0.67582933]\n",
      "The norm of psikplus orbital 1.5171939497512368\n",
      "The norm of psikminus orbital 1.9666038682768574\n",
      "[0.68283293 0.84478667]\n",
      "The norm of psikplus orbital 0.8731790043927665\n",
      "The norm of psikminus orbital 3.0358633457898248\n",
      "[0.78038049 1.013744  ]\n",
      "The norm of psikplus orbital 0.7187656540244548\n",
      "The norm of psikminus orbital 3.606348441682484\n",
      "[ 0.19509512 -0.33791467]\n",
      "The norm of psikplus orbital 2.5229806371161336\n",
      "The norm of psikminus orbital 0.24605892998083603\n",
      "[ 0.29264269 -0.16895733]\n",
      "The norm of psikplus orbital 2.4808798913487937\n",
      "The norm of psikminus orbital 0.25025154292014073\n",
      "[0.39019025 0.        ]\n",
      "The norm of psikplus orbital 2.5229806371161323\n",
      "The norm of psikminus orbital 0.24605892998083603\n",
      "[0.48773781 0.16895733]\n",
      "The norm of psikplus orbital 2.6540126255941954\n",
      "The norm of psikminus orbital 0.2302615782451031\n",
      "[0.58528537 0.33791467]\n",
      "The norm of psikplus orbital 2.881761844029375\n",
      "The norm of psikminus orbital 0.19783561036639008\n",
      "[0.68283293 0.506872  ]\n",
      "The norm of psikplus orbital 2.35725409225769\n",
      "The norm of psikminus orbital 0.9958237929277516\n",
      "[0.78038049 0.67582933]\n",
      "The norm of psikplus orbital 0.8349100026121664\n",
      "The norm of psikminus orbital 2.8509879972320946\n",
      "[0.87792806 0.84478667]\n",
      "The norm of psikplus orbital 0.6730623928093996\n",
      "The norm of psikminus orbital 3.3511356500012517\n",
      "[ 0.29264269 -0.506872  ]\n",
      "The norm of psikplus orbital 2.6816258682058542\n",
      "The norm of psikminus orbital 0.2894510930063004\n",
      "[ 0.39019025 -0.33791467]\n",
      "The norm of psikplus orbital 2.6540126255941954\n",
      "The norm of psikminus orbital 0.23026157824510318\n",
      "[ 0.48773781 -0.16895733]\n",
      "The norm of psikplus orbital 2.6540126255941954\n",
      "The norm of psikminus orbital 0.2302615782451031\n",
      "[0.58528537 0.        ]\n",
      "The norm of psikplus orbital 2.6816258682058542\n",
      "The norm of psikminus orbital 0.2894510930063004\n",
      "[0.68283293 0.16895733]\n",
      "The norm of psikplus orbital 2.6989444113847423\n",
      "The norm of psikminus orbital 0.43480562351884716\n",
      "[0.78038049 0.33791467]\n",
      "The norm of psikplus orbital 2.3572540922576892\n",
      "The norm of psikminus orbital 0.995823792927753\n",
      "[0.87792806 0.506872  ]\n",
      "The norm of psikplus orbital 0.16357445299076284\n",
      "The norm of psikminus orbital 3.437169276757204\n",
      "[0.97547562 0.67582933]\n",
      "The norm of psikplus orbital 0.3354434881177289\n",
      "The norm of psikminus orbital 3.4984021130348735\n",
      "[ 0.39019025 -0.67582933]\n",
      "The norm of psikplus orbital 2.1994778968903077\n",
      "The norm of psikminus orbital 1.0822197393216242\n",
      "[ 0.48773781 -0.506872  ]\n",
      "The norm of psikplus orbital 2.6989444113847423\n",
      "The norm of psikminus orbital 0.43480562351884716\n",
      "[ 0.58528537 -0.33791467]\n",
      "The norm of psikplus orbital 2.881761844029375\n",
      "The norm of psikminus orbital 0.19783561036639008\n",
      "[ 0.68283293 -0.16895733]\n",
      "The norm of psikplus orbital 2.6989444113847423\n",
      "The norm of psikminus orbital 0.43480562351884716\n",
      "[0.78038049 0.        ]\n",
      "The norm of psikplus orbital 2.1994778968903077\n",
      "The norm of psikminus orbital 1.0822197393216237\n",
      "[0.87792806 0.16895733]\n",
      "The norm of psikplus orbital 1.5171939497512361\n",
      "The norm of psikminus orbital 1.9666038682768596\n",
      "[0.97547562 0.33791467]\n",
      "The norm of psikplus orbital 0.8349100026121665\n",
      "The norm of psikminus orbital 2.8509879972320946\n",
      "[1.07302318 0.506872  ]\n",
      "The norm of psikplus orbital 0.33544348811772934\n",
      "The norm of psikminus orbital 3.498402113034873\n",
      "[ 0.48773781 -0.84478667]\n",
      "The norm of psikplus orbital 1.133261230563797\n",
      "The norm of psikminus orbital 2.5646703154119885\n",
      "[ 0.58528537 -0.67582933]\n",
      "The norm of psikplus orbital 1.5171939497512368\n",
      "The norm of psikminus orbital 1.9666038682768574\n",
      "[ 0.68283293 -0.506872  ]\n",
      "The norm of psikplus orbital 2.3572540922576906\n",
      "The norm of psikminus orbital 0.9958237929277519\n",
      "[ 0.78038049 -0.33791467]\n",
      "The norm of psikplus orbital 2.3572540922576892\n",
      "The norm of psikminus orbital 0.995823792927753\n",
      "[ 0.87792806 -0.16895733]\n",
      "The norm of psikplus orbital 1.5171939497512361\n",
      "The norm of psikminus orbital 1.9666038682768596\n",
      "[0.97547562 0.        ]\n",
      "The norm of psikplus orbital 1.133261230563797\n",
      "The norm of psikminus orbital 2.5646703154119885\n",
      "[1.07302318 0.16895733]\n",
      "The norm of psikplus orbital 0.873179004392766\n",
      "The norm of psikminus orbital 3.0358633457898248\n",
      "[1.17057074 0.33791467]\n",
      "The norm of psikplus orbital 0.6730623928093996\n",
      "The norm of psikminus orbital 3.3511356500012517\n",
      "[ 0.58528537 -1.013744  ]\n",
      "The norm of psikplus orbital 0.7947019882903777\n",
      "The norm of psikminus orbital 3.3755847213005494\n",
      "[ 0.68283293 -0.84478667]\n",
      "The norm of psikplus orbital 0.8731790043927665\n",
      "The norm of psikminus orbital 3.0358633457898248\n",
      "[ 0.78038049 -0.67582933]\n",
      "The norm of psikplus orbital 0.8349100026121664\n",
      "The norm of psikminus orbital 2.8509879972320946\n",
      "[ 0.87792806 -0.506872  ]\n",
      "The norm of psikplus orbital 0.16357445299076284\n",
      "The norm of psikminus orbital 3.437169276757204\n",
      "[ 0.97547562 -0.33791467]\n",
      "The norm of psikplus orbital 0.8349100026121665\n",
      "The norm of psikminus orbital 2.8509879972320946\n",
      "[ 1.07302318 -0.16895733]\n",
      "The norm of psikplus orbital 0.8731790043927662\n",
      "The norm of psikminus orbital 3.0358633457898243\n",
      "[1.17057074 0.        ]\n",
      "The norm of psikplus orbital 0.7947019882903777\n",
      "The norm of psikminus orbital 3.3755847213005494\n",
      "[1.2681183  0.16895733]\n",
      "The norm of psikplus orbital 0.7187656540244549\n",
      "The norm of psikminus orbital 3.606348441682484\n",
      "[ 0.68283293 -1.18270133]\n",
      "The norm of psikplus orbital 0.6988141351012994\n",
      "The norm of psikminus orbital 3.8724980506217617\n",
      "[ 0.78038049 -1.013744  ]\n",
      "The norm of psikplus orbital 0.7187656540244548\n",
      "The norm of psikminus orbital 3.606348441682484\n",
      "[ 0.87792806 -0.84478667]\n",
      "The norm of psikplus orbital 0.6730623928093996\n",
      "The norm of psikminus orbital 3.3511356500012517\n",
      "[ 0.97547562 -0.67582933]\n",
      "The norm of psikplus orbital 0.33544348811772884\n",
      "The norm of psikminus orbital 3.498402113034873\n",
      "[ 1.07302318 -0.506872  ]\n",
      "The norm of psikplus orbital 0.33544348811772934\n",
      "The norm of psikminus orbital 3.498402113034873\n",
      "[ 1.17057074 -0.33791467]\n",
      "The norm of psikplus orbital 0.6730623928093996\n",
      "The norm of psikminus orbital 3.3511356500012517\n",
      "[ 1.2681183  -0.16895733]\n",
      "The norm of psikplus orbital 0.7187656540244549\n",
      "The norm of psikminus orbital 3.606348441682484\n",
      "[1.36566587 0.        ]\n",
      "The norm of psikplus orbital 0.6988141351012992\n",
      "The norm of psikminus orbital 3.872498050621763\n",
      "1.5830260303631563\n",
      "1.9223912644964583\n"
     ]
    }
   ],
   "source": [
    "k_list = []\n",
    "normkplus_list = []\n",
    "normkminus_list = []\n",
    "Z = 2.4\n",
    "gamma = -3.033/Hartree2eV\n",
    "s = 0.129\n",
    "N1k = 8\n",
    "N2k = 8\n",
    "for i1 in range(N1k):\n",
    "    for i2 in range(N2k):\n",
    "        k = (i1/N1k)*b1 + (i2/N2k)*b2 \n",
    "        k_list.append(k)\n",
    "#\n",
    "for k in k_list:\n",
    "    print(k)\n",
    "    f, epsplus, epsminus, cAplus, cBplus, cAminus, cBminus = k2fepscAcB(k, a1, a2, RA[:2], RB[:2], gamma, s)\n",
    "    phinkA, N1, N2 = get_phink(r, RA, Z, k)\n",
    "    phinkB, N1, N2 = get_phink(r, RB, Z, k)\n",
    "    psikplus = cAplus*phinkA + cBplus*phinkB\n",
    "    psikminus = cAminus*phinkA + cBminus*phinkB\n",
    "    normkplus = np.sum((np.abs(psikplus))**2)*dV*(N1*N2)\n",
    "    normkminus = np.sum((np.abs(psikminus))**2)*dV*(N1*N2)\n",
    "    print('The norm of psikplus orbital', normkplus)\n",
    "    print('The norm of psikminus orbital', normkminus)\n",
    "    normkplus_list.append(normkplus)\n",
    "    normkminus_list.append(normkminus)\n",
    "normkplus_array = np.array(normkplus_list)\n",
    "normkminus_array = np.array(normkminus_list)\n",
    "print(np.sum(normkplus_array)/(N1k*N2k))\n",
    "print(np.sum(normkminus_array)/(N1k*N2k))"
   ]
  },
  {
   "cell_type": "code",
   "execution_count": 21,
   "metadata": {
    "colab": {
     "background_save": true
    },
    "id": "h5JuoUBWJxeo"
   },
   "outputs": [
    {
     "name": "stdout",
     "output_type": "stream",
     "text": [
      "[-0.78038049  0.        ]\n",
      "The norm of psikplus orbital 2.1994778968903077\n",
      "The norm of psikminus orbital 1.0822197393216237\n",
      "[-0.58528537  0.33791467]\n",
      "The norm of psikplus orbital 2.881761844029375\n",
      "The norm of psikminus orbital 0.19783561036639008\n",
      "[-0.39019025  0.67582933]\n",
      "The norm of psikplus orbital 2.1994778968903077\n",
      "The norm of psikminus orbital 1.0822197393216242\n",
      "[-0.19509512  1.013744  ]\n",
      "The norm of psikplus orbital 0.8349100026121664\n",
      "The norm of psikminus orbital 2.8509879972320955\n",
      "[-0.58528537 -0.33791467]\n",
      "The norm of psikplus orbital 2.881761844029375\n",
      "The norm of psikminus orbital 0.19783561036639008\n",
      "[-0.39019025  0.        ]\n",
      "The norm of psikplus orbital 2.5229806371161323\n",
      "The norm of psikminus orbital 0.24605892998083603\n",
      "[-0.19509512  0.33791467]\n",
      "The norm of psikplus orbital 2.5229806371161336\n",
      "The norm of psikminus orbital 0.24605892998083603\n",
      "[0.         0.67582933]\n",
      "The norm of psikplus orbital 2.881761844029375\n",
      "The norm of psikminus orbital 0.19783561036639008\n",
      "[-0.39019025 -0.67582933]\n",
      "The norm of psikplus orbital 2.1994778968903077\n",
      "The norm of psikminus orbital 1.0822197393216242\n",
      "[-0.19509512 -0.33791467]\n",
      "The norm of psikplus orbital 2.5229806371161323\n",
      "The norm of psikminus orbital 0.24605892998083603\n",
      "[0. 0.]\n",
      "The norm of psikplus orbital 2.345716742544458\n",
      "The norm of psikminus orbital 0.28110084278813335\n",
      "[0.19509512 0.33791467]\n",
      "The norm of psikplus orbital 2.5229806371161323\n",
      "The norm of psikminus orbital 0.24605892998083603\n",
      "[-0.19509512 -1.013744  ]\n",
      "The norm of psikplus orbital 0.8349100026121664\n",
      "The norm of psikminus orbital 2.8509879972320955\n",
      "[ 0.         -0.67582933]\n",
      "The norm of psikplus orbital 2.881761844029375\n",
      "The norm of psikminus orbital 0.19783561036639008\n",
      "[ 0.19509512 -0.33791467]\n",
      "The norm of psikplus orbital 2.5229806371161336\n",
      "The norm of psikminus orbital 0.24605892998083603\n",
      "[0.39019025 0.        ]\n",
      "The norm of psikplus orbital 2.5229806371161323\n",
      "The norm of psikminus orbital 0.24605892998083603\n",
      "2.3299313523283756\n",
      "0.7185895047854858\n"
     ]
    }
   ],
   "source": [
    "k_list = []\n",
    "normkplus_list = []\n",
    "normkminus_list = []\n",
    "Z = 2.4\n",
    "gamma = -3.033/Hartree2eV\n",
    "s = 0.129\n",
    "N1k = 4\n",
    "N2k = 4\n",
    "for i1 in range(N1k):\n",
    "    for i2 in range(N2k):\n",
    "        k = (i1/N1k - 1/2)*b1 + (i2/N2k - 1/2)*b2 \n",
    "        k_list.append(k)\n",
    "#\n",
    "for k in k_list:\n",
    "    print(k)\n",
    "    f, epsplus, epsminus, cAplus, cBplus, cAminus, cBminus = k2fepscAcB(k, a1, a2, RA[:2], RB[:2], gamma, s)\n",
    "    phinkA, N1, N2 = get_phink(r, RA, Z, k)\n",
    "    phinkB, N1, N2 = get_phink(r, RB, Z, k)\n",
    "    psikplus = cAplus*phinkA + cBplus*phinkB\n",
    "    psikminus = cAminus*phinkA + cBminus*phinkB\n",
    "    normkplus = np.sum((np.abs(psikplus))**2)*dV*(N1*N2)\n",
    "    normkminus = np.sum((np.abs(psikminus))**2)*dV*(N1*N2)\n",
    "    print('The norm of psikplus orbital', normkplus)\n",
    "    print('The norm of psikminus orbital', normkminus)\n",
    "    normkplus_list.append(normkplus)\n",
    "    normkminus_list.append(normkminus)\n",
    "normkplus_array = np.array(normkplus_list)\n",
    "normkminus_array = np.array(normkminus_list)\n",
    "print(np.sum(normkplus_array)/(N1k*N2k))\n",
    "print(np.sum(normkminus_array)/(N1k*N2k))"
   ]
  },
  {
   "cell_type": "code",
   "execution_count": 22,
   "metadata": {
    "colab": {
     "background_save": true
    },
    "id": "a7i4sN8uK7Vo"
   },
   "outputs": [
    {
     "name": "stdout",
     "output_type": "stream",
     "text": [
      "[-0.78038049  0.        ]\n",
      "The norm of psikplus orbital 2.9640959023326694\n",
      "The norm of psikminus orbital 1.34378047994805\n",
      "[-0.58528537  0.33791467]\n",
      "The norm of psikplus orbital 3.9277945186740437\n",
      "The norm of psikminus orbital 0.09462349045389064\n",
      "[-0.39019025  0.67582933]\n",
      "The norm of psikplus orbital 2.9640959023326694\n",
      "The norm of psikminus orbital 1.3437804799480502\n",
      "[-0.19509512  1.013744  ]\n",
      "The norm of psikplus orbital 1.0366986696499145\n",
      "The norm of psikminus orbital 3.8420944589363737\n",
      "[-0.58528537 -0.33791467]\n",
      "The norm of psikplus orbital 3.9277945186740437\n",
      "The norm of psikminus orbital 0.09462349045389064\n",
      "[-0.39019025  0.        ]\n",
      "The norm of psikplus orbital 3.438675289830595\n",
      "The norm of psikminus orbital 0.12132205538844154\n",
      "[-0.19509512  0.33791467]\n",
      "The norm of psikplus orbital 3.438675289830595\n",
      "The norm of psikminus orbital 0.12132205538844153\n",
      "[0.         0.67582933]\n",
      "The norm of psikplus orbital 3.9277945186740437\n",
      "The norm of psikminus orbital 0.09462349045389064\n",
      "[-0.39019025 -0.67582933]\n",
      "The norm of psikplus orbital 2.9640959023326694\n",
      "The norm of psikminus orbital 1.3437804799480502\n",
      "[-0.19509512 -0.33791467]\n",
      "The norm of psikplus orbital 3.438675289830595\n",
      "The norm of psikminus orbital 0.12132205538844154\n",
      "[0. 0.]\n",
      "The norm of psikplus orbital 3.1971737646596936\n",
      "The norm of psikminus orbital 0.1344487115584645\n",
      "[0.19509512 0.33791467]\n",
      "The norm of psikplus orbital 3.438675289830595\n",
      "The norm of psikminus orbital 0.12132205538844154\n",
      "[-0.19509512 -1.013744  ]\n",
      "The norm of psikplus orbital 1.0366986696499145\n",
      "The norm of psikminus orbital 3.8420944589363746\n",
      "[ 0.         -0.67582933]\n",
      "The norm of psikplus orbital 3.9277945186740437\n",
      "The norm of psikminus orbital 0.09462349045389064\n",
      "[ 0.19509512 -0.33791467]\n",
      "The norm of psikplus orbital 3.438675289830595\n",
      "The norm of psikminus orbital 0.12132205538844153\n",
      "[0.39019025 0.        ]\n",
      "The norm of psikplus orbital 3.438675289830595\n",
      "The norm of psikminus orbital 0.12132205538844154\n",
      "3.1566305390398295\n",
      "0.8097753352138484\n"
     ]
    }
   ],
   "source": [
    "k_list = []\n",
    "normkplus_list = []\n",
    "normkminus_list = []\n",
    "Z = 2.0\n",
    "gamma = -3.033/Hartree2eV\n",
    "s = 0.129\n",
    "N1k = 4\n",
    "N2k = 4\n",
    "for i1 in range(N1k):\n",
    "    for i2 in range(N2k):\n",
    "        k = (i1/N1k - 1/2)*b1 + (i2/N2k - 1/2)*b2 \n",
    "        k_list.append(k)\n",
    "#\n",
    "for k in k_list:\n",
    "    print(k)\n",
    "    f, epsplus, epsminus, cAplus, cBplus, cAminus, cBminus = k2fepscAcB(k, a1, a2, RA[:2], RB[:2], gamma, s)\n",
    "    phinkA, N1, N2 = get_phink(r, RA, Z, k)\n",
    "    phinkB, N1, N2 = get_phink(r, RB, Z, k)\n",
    "    psikplus = cAplus*phinkA + cBplus*phinkB\n",
    "    psikminus = cAminus*phinkA + cBminus*phinkB\n",
    "    normkplus = np.sum((np.abs(psikplus))**2)*dV*(N1*N2)\n",
    "    normkminus = np.sum((np.abs(psikminus))**2)*dV*(N1*N2)\n",
    "    print('The norm of psikplus orbital', normkplus)\n",
    "    print('The norm of psikminus orbital', normkminus)\n",
    "    normkplus_list.append(normkplus)\n",
    "    normkminus_list.append(normkminus)\n",
    "normkplus_array = np.array(normkplus_list)\n",
    "normkminus_array = np.array(normkminus_list)\n",
    "print(np.sum(normkplus_array)/(N1k*N2k))\n",
    "print(np.sum(normkminus_array)/(N1k*N2k))"
   ]
  },
  {
   "cell_type": "code",
   "execution_count": 23,
   "metadata": {
    "colab": {
     "background_save": true
    },
    "id": "3RfAQMzjaJgF"
   },
   "outputs": [
    {
     "name": "stdout",
     "output_type": "stream",
     "text": [
      "[-0.78038049  0.        ]\n",
      "The norm of psikplus orbital 1.1131705112095986\n",
      "The norm of psikminus orbital 0.9780037443034804\n",
      "[-0.58528537  0.33791467]\n",
      "The norm of psikplus orbital 1.2925010009648261\n",
      "The norm of psikminus orbital 0.7455535457573819\n",
      "[-0.39019025  0.67582933]\n",
      "The norm of psikplus orbital 1.1131705112095986\n",
      "The norm of psikminus orbital 0.9780037443034807\n",
      "[-0.19509512  1.013744  ]\n",
      "The norm of psikplus orbital 0.7545095316991425\n",
      "The norm of psikminus orbital 1.4429041413956787\n",
      "[-0.58528537 -0.33791467]\n",
      "The norm of psikplus orbital 1.2925010009648261\n",
      "The norm of psikminus orbital 0.7455535457573819\n",
      "[-0.39019025  0.        ]\n",
      "The norm of psikplus orbital 1.1319826369352626\n",
      "The norm of psikminus orbital 0.9136492661068705\n",
      "[-0.19509512  0.33791467]\n",
      "The norm of psikplus orbital 1.1319826369352626\n",
      "The norm of psikminus orbital 0.9136492661068703\n",
      "[0.         0.67582933]\n",
      "The norm of psikplus orbital 1.2925010009648261\n",
      "The norm of psikminus orbital 0.7455535457573819\n",
      "[-0.39019025 -0.67582933]\n",
      "The norm of psikplus orbital 1.1131705112095986\n",
      "The norm of psikminus orbital 0.9780037443034807\n",
      "[-0.19509512 -0.33791467]\n",
      "The norm of psikplus orbital 1.1319826369352626\n",
      "The norm of psikminus orbital 0.9136492661068705\n",
      "[0. 0.]\n",
      "The norm of psikplus orbital 1.0520790411602652\n",
      "The norm of psikminus orbital 1.0593428031887102\n",
      "[0.19509512 0.33791467]\n",
      "The norm of psikplus orbital 1.1319826369352626\n",
      "The norm of psikminus orbital 0.9136492661068705\n",
      "[-0.19509512 -1.013744  ]\n",
      "The norm of psikplus orbital 0.7545095316991425\n",
      "The norm of psikminus orbital 1.442904141395679\n",
      "[ 0.         -0.67582933]\n",
      "The norm of psikplus orbital 1.2925010009648261\n",
      "The norm of psikminus orbital 0.7455535457573819\n",
      "[ 0.19509512 -0.33791467]\n",
      "The norm of psikplus orbital 1.1319826369352626\n",
      "The norm of psikminus orbital 0.9136492661068703\n",
      "[0.39019025 0.        ]\n",
      "The norm of psikplus orbital 1.1319826369352626\n",
      "The norm of psikminus orbital 0.9136492661068705\n",
      "1.1164068414786392\n",
      "0.9589545061600787\n"
     ]
    }
   ],
   "source": [
    "k_list = []\n",
    "normkplus_list = []\n",
    "normkminus_list = []\n",
    "Z = 4.0\n",
    "gamma = -3.033/Hartree2eV\n",
    "s = 0.129\n",
    "N1k = 4\n",
    "N2k = 4\n",
    "for i1 in range(N1k):\n",
    "    for i2 in range(N2k):\n",
    "        k = (i1/N1k - 1/2)*b1 + (i2/N2k - 1/2)*b2 \n",
    "        k_list.append(k)\n",
    "#\n",
    "for k in k_list:\n",
    "    print(k)\n",
    "    f, epsplus, epsminus, cAplus, cBplus, cAminus, cBminus = k2fepscAcB(k, a1, a2, RA[:2], RB[:2], gamma, s)\n",
    "    phinkA, N1, N2 = get_phink(r, RA, Z, k)\n",
    "    phinkB, N1, N2 = get_phink(r, RB, Z, k)\n",
    "    psikplus = cAplus*phinkA + cBplus*phinkB\n",
    "    psikminus = cAminus*phinkA + cBminus*phinkB\n",
    "    normkplus = np.sum((np.abs(psikplus))**2)*dV*(N1*N2)\n",
    "    normkminus = np.sum((np.abs(psikminus))**2)*dV*(N1*N2)\n",
    "    print('The norm of psikplus orbital', normkplus)\n",
    "    print('The norm of psikminus orbital', normkminus)\n",
    "    normkplus_list.append(normkplus)\n",
    "    normkminus_list.append(normkminus)\n",
    "normkplus_array = np.array(normkplus_list)\n",
    "normkminus_array = np.array(normkminus_list)\n",
    "print(np.sum(normkplus_array)/(N1k*N2k))\n",
    "print(np.sum(normkminus_array)/(N1k*N2k))"
   ]
  },
  {
   "cell_type": "code",
   "execution_count": 24,
   "metadata": {
    "colab": {
     "background_save": true
    },
    "id": "bTPPIzVWP1mz"
   },
   "outputs": [
    {
     "name": "stdout",
     "output_type": "stream",
     "text": [
      "(16, 2)\n"
     ]
    },
    {
     "data": {
      "image/png": "[encoded data removed]",
      "text/plain": [
       "<Figure size 432x288 with 2 Axes>"
      ]
     },
     "metadata": {
      "needs_background": "light"
     },
     "output_type": "display_data"
    }
   ],
   "source": [
    "k_array = np.array(k_list)\n",
    "print(k_array.shape)\n",
    "plt.figure()\n",
    "plt.scatter(k_array[:,0], k_array[:,1], s = 400, c=(normkplus_array - normkminus_array)/(normkplus_array + normkminus_array)*2.0, cmap=plt.cm.jet)\n",
    "#plt.plot(np.array([0.0, 1.0, 2.0]))\n",
    "plt.grid()\n",
    "plt.colorbar()\n",
    "plt.axis('scaled')\n",
    "plt.show()"
   ]
  },
  {
   "cell_type": "code",
   "execution_count": 25,
   "metadata": {
    "colab": {
     "background_save": true
    },
    "id": "aea8z0bGa-f0"
   },
   "outputs": [
    {
     "data": {
      "image/png": "[encoded data removed]",
      "text/plain": [
       "<Figure size 432x288 with 2 Axes>"
      ]
     },
     "metadata": {
      "needs_background": "light"
     },
     "output_type": "display_data"
    }
   ],
   "source": [
    "k_list = []\n",
    "epsplus_list = []\n",
    "epsminus_list = []\n",
    "Z = 4.0\n",
    "gamma = -3.033/Hartree2eV\n",
    "s = 0.129\n",
    "N1k = 120\n",
    "N2k = 120\n",
    "for i1 in range(N1k):\n",
    "    for i2 in range(N2k):\n",
    "        k = (i1/N1k - 1/2)*b1 + (i2/N2k - 1/2)*b2 \n",
    "        k_list.append(k)\n",
    "#\n",
    "for k in k_list:\n",
    "    #print(k)\n",
    "    f, epsplus, epsminus, cAplus, cBplus, cAminus, cBminus = k2fepscAcB(k, a1, a2, RA[:2], RB[:2], gamma, s)\n",
    "    epsplus_list.append(epsplus)\n",
    "    epsminus_list.append(epsminus)\n",
    "k_array = np.array(k_list)\n",
    "epsplus_array = np.array(epsplus_list)\n",
    "epsminus_array = np.array(epsminus_list)\n",
    "#print(k_array.shape)\n",
    "plt.figure()\n",
    "plt.scatter(k_array[:,0], k_array[:,1], s = 0.1, c=(epsminus_array - epsplus_array)*Hartree2eV, cmap=plt.cm.jet)\n",
    "#plt.plot(np.array([0.0, 1.0, 2.0]))\n",
    "plt.axis('scaled')\n",
    "plt.grid()\n",
    "plt.colorbar()\n",
    "plt.show()"
   ]
  },
  {
   "cell_type": "code",
   "execution_count": 26,
   "metadata": {
    "colab": {
     "background_save": true
    },
    "id": "eBL4bzY6XQiM"
   },
   "outputs": [
    {
     "name": "stdout",
     "output_type": "stream",
     "text": [
      "[0.2 0.2 0.2]\n"
     ]
    },
    {
     "ename": "NameError",
     "evalue": "name 'get_1s' is not defined",
     "output_type": "error",
     "traceback": [
      "\u001b[0;31m---------------------------------------------------------------------------\u001b[0m",
      "\u001b[0;31mNameError\u001b[0m                                 Traceback (most recent call last)",
      "\u001b[0;32m<ipython-input-26-70b085f1ac47>\u001b[0m in \u001b[0;36m<module>\u001b[0;34m\u001b[0m\n\u001b[1;32m     13\u001b[0m \u001b[0mZ\u001b[0m \u001b[0;34m=\u001b[0m \u001b[0;36m4.0\u001b[0m\u001b[0;34m\u001b[0m\u001b[0;34m\u001b[0m\u001b[0m\n\u001b[1;32m     14\u001b[0m \u001b[0;31m## 1s\u001b[0m\u001b[0;34m\u001b[0m\u001b[0;34m\u001b[0m\u001b[0;34m\u001b[0m\u001b[0m\n\u001b[0;32m---> 15\u001b[0;31m \u001b[0mphi\u001b[0m \u001b[0;34m=\u001b[0m \u001b[0mget_1s\u001b[0m\u001b[0;34m(\u001b[0m\u001b[0mr\u001b[0m\u001b[0;34m,\u001b[0m \u001b[0mRc\u001b[0m\u001b[0;34m,\u001b[0m \u001b[0mZ\u001b[0m\u001b[0;34m)\u001b[0m\u001b[0;34m\u001b[0m\u001b[0;34m\u001b[0m\u001b[0m\n\u001b[0m\u001b[1;32m     16\u001b[0m \u001b[0mprint\u001b[0m\u001b[0;34m(\u001b[0m\u001b[0;34m'max, min = '\u001b[0m\u001b[0;34m,\u001b[0m \u001b[0mnp\u001b[0m\u001b[0;34m.\u001b[0m\u001b[0mamax\u001b[0m\u001b[0;34m(\u001b[0m\u001b[0mnp\u001b[0m\u001b[0;34m.\u001b[0m\u001b[0mabs\u001b[0m\u001b[0;34m(\u001b[0m\u001b[0mphi\u001b[0m\u001b[0;34m)\u001b[0m\u001b[0;34m)\u001b[0m\u001b[0;34m,\u001b[0m \u001b[0mnp\u001b[0m\u001b[0;34m.\u001b[0m\u001b[0mamin\u001b[0m\u001b[0;34m(\u001b[0m\u001b[0mnp\u001b[0m\u001b[0;34m.\u001b[0m\u001b[0mabs\u001b[0m\u001b[0;34m(\u001b[0m\u001b[0mphi\u001b[0m\u001b[0;34m)\u001b[0m\u001b[0;34m)\u001b[0m\u001b[0;34m)\u001b[0m\u001b[0;34m\u001b[0m\u001b[0;34m\u001b[0m\u001b[0m\n\u001b[1;32m     17\u001b[0m \u001b[0mprint\u001b[0m\u001b[0;34m(\u001b[0m\u001b[0;34m'The norm of 1s orbital'\u001b[0m\u001b[0;34m,\u001b[0m \u001b[0mnp\u001b[0m\u001b[0;34m.\u001b[0m\u001b[0msum\u001b[0m\u001b[0;34m(\u001b[0m\u001b[0mphi\u001b[0m\u001b[0;34m*\u001b[0m\u001b[0mphi\u001b[0m\u001b[0;34m)\u001b[0m\u001b[0;34m*\u001b[0m\u001b[0mdV\u001b[0m\u001b[0;34m)\u001b[0m\u001b[0;34m\u001b[0m\u001b[0;34m\u001b[0m\u001b[0m\n",
      "\u001b[0;31mNameError\u001b[0m: name 'get_1s' is not defined"
     ]
    }
   ],
   "source": [
    "# Check of nomarlization or 1s, and 2pz orbitals\n",
    "## Generate spatial grids\n",
    "Lx = 8\n",
    "Ly = 8\n",
    "Lz = 8\n",
    "Nx = 80\n",
    "Ny = 80\n",
    "Nz = 80\n",
    "r, dV, V = get_rgrid(Nx, Ny, Nz, Lx, Ly, Lz)\n",
    "## Determine atomic position and the effective charge\n",
    "Rc = np.array([0.2, 0.2, 0.2])\n",
    "print(Rc)\n",
    "Z = 4.0\n",
    "## 1s\n",
    "phi = get_1s(r, Rc, Z)\n",
    "print('max, min = ', np.amax(np.abs(phi)), np.amin(np.abs(phi)))\n",
    "print('The norm of 1s orbital', np.sum(phi*phi)*dV)\n",
    "## 2pz\n",
    "phi = get_2pz(r, Rc, Z)\n",
    "print('max, min = ', np.amax(np.abs(phi)), np.amin(np.abs(phi)))\n",
    "print('The norm of 2pz orbital', np.sum(phi*phi)*dV)\n"
   ]
  },
  {
   "cell_type": "code",
   "execution_count": null,
   "metadata": {
    "colab": {
     "background_save": true
    },
    "id": "cu9Snqxv0jvm"
   },
   "outputs": [],
   "source": [
    "# Test code for overlap integral \\int d^3r phi_A (r) phi_B(r)\n",
    "##\n",
    "Z = 4.0\n",
    "##\n",
    "Lx = 12 #Larger box along x-axis for shiting atomic positions along x-axis\n",
    "Ly = 8\n",
    "Lz = 8\n",
    "Nx = 120 \n",
    "Ny = 80\n",
    "Nz = 80\n",
    "r, dV, V = get_rgrid(Nx, Ny, Nz, Lx, Ly, Lz)\n",
    "##\n",
    "d = 0.0 # Seperation of the two atomic orbitals\n",
    "RcA = np.array([d/2.0, 0.0, 0.0])\n",
    "RcB = np.array([-d/2.0, 0.0, 0.0])\n",
    "phiA = get_2pz(r, RcA, Z)\n",
    "print('max, min = ', np.amax(np.abs(phiA)), np.amin(np.abs(phiA)))\n",
    "phiB = get_2pz(r, RcB, Z)\n",
    "print('max, min = ', np.amax(np.abs(phiB)), np.amin(np.abs(phiB)))\n",
    "\n",
    "print('The ovelap integral', np.sum(phiA*phiB)*dV)"
   ]
  },
  {
   "cell_type": "code",
   "execution_count": null,
   "metadata": {
    "colab": {
     "background_save": true
    },
    "id": "KvBYJWxW8dVO"
   },
   "outputs": [],
   "source": [
    "# Overlap integral as a function of the seperation for 2pz\n",
    "##\n",
    "Z = 4.00\n",
    "##\n",
    "Lx = 20 #Larger box along x-axis for shiting atomic positions along x-axis\n",
    "Ly = 10\n",
    "Lz = 10\n",
    "Nx = 200 \n",
    "Ny = 100\n",
    "Nz = 100\n",
    "r, dV, V = get_rgrid(Nx, Ny, Nz, Lx, Ly, Lz)\n",
    "##\n",
    "d_list = [0.0,  0.4, 0.8, 1.2, 1.6, 2.0, 2.4, 2.60, 2.683943361398497, 2.70, 2.8, 3.2, 3.6, 4.0, 4.4, 4.8, 5.2]\n",
    "ovlp_list = []\n",
    "for d in d_list:\n",
    "    print('The seperation: d =', d)\n",
    "    RcA = np.array([d/2.0, 0.0, 0.0])\n",
    "    RcB = np.array([-d/2.0, 0.0, 0.0])\n",
    "    phiA = get_2pz(r, RcA, Z)\n",
    "    #print('max, min = ', np.amax(np.abs(phiA)), np.amin(np.abs(phiA)))\n",
    "    phiB = get_2pz(r, RcB, Z)\n",
    "    #print('max, min = ', np.amax(np.abs(phiB)), np.amin(np.abs(phiB)))\n",
    "\n",
    "    print('norm, ovlp', np.sum(phiA*phiA)*dV, np.sum(phiA*phiB)*dV)\n",
    "    ovlp_list.append(np.sum(phiA*phiB)*dV)\n",
    "plt.figure()\n",
    "plt.plot(np.array(d_list),np.array(ovlp_list))\n",
    "plt.grid()\n",
    "plt.show()\n",
    "#\n",
    "plt.figure()\n",
    "plt.yscale('log')\n",
    "plt.plot(np.array(d_list),np.array(ovlp_list))\n",
    "plt.grid()\n",
    "plt.show()"
   ]
  },
  {
   "cell_type": "code",
   "execution_count": null,
   "metadata": {
    "colab": {
     "background_save": true
    },
    "id": "DkrAPL01DgGi"
   },
   "outputs": [],
   "source": [
    "# Overlap integral as a function of the seperation for 2pz\n",
    "##\n",
    "Z = 4.02\n",
    "##\n",
    "Lx = 20 #Larger box along x-axis for shiting atomic positions along x-axis\n",
    "Ly = 10\n",
    "Lz = 10\n",
    "Nx = 200 \n",
    "Ny = 100\n",
    "Nz = 100\n",
    "r, dV, V = get_rgrid(Nx, Ny, Nz, Lx, Ly, Lz)\n",
    "##\n",
    "d_list = [0.0,  0.4, 0.8, 1.2, 1.6, 2.0, 2.4, 2.60, 2.683943361398497, 2.70, 2.8, 3.2, 3.6, 4.0, 4.4, 4.8, 5.2]\n",
    "ovlp_list = []\n",
    "for d in d_list:\n",
    "    print('The seperation: d =', d)\n",
    "    RcA = np.array([d/2.0, 0.0, 0.0])\n",
    "    RcB = np.array([-d/2.0, 0.0, 0.0])\n",
    "    phiA = get_2pz(r, RcA, Z)\n",
    "    #print('max, min = ', np.amax(np.abs(phiA)), np.amin(np.abs(phiA)))\n",
    "    phiB = get_2pz(r, RcB, Z)\n",
    "    #print('max, min = ', np.amax(np.abs(phiB)), np.amin(np.abs(phiB)))\n",
    "\n",
    "    print('norm, ovlp', np.sum(phiA*phiA)*dV, np.sum(phiA*phiB)*dV)\n",
    "    ovlp_list.append(np.sum(phiA*phiB)*dV)\n",
    "plt.figure()\n",
    "plt.plot(np.array(d_list),np.array(ovlp_list))\n",
    "plt.grid()\n",
    "plt.show()\n",
    "#\n",
    "plt.figure()\n",
    "plt.yscale('log')\n",
    "plt.plot(np.array(d_list),np.array(ovlp_list))\n",
    "plt.grid()\n",
    "plt.show()"
   ]
  },
  {
   "cell_type": "code",
   "execution_count": null,
   "metadata": {
    "colab": {
     "background_save": true
    },
    "id": "WdyyS7adGlnP"
   },
   "outputs": [],
   "source": [
    "# Overlap integral as a function of the effective charge\n",
    "##\n",
    "Lx = 20 #Larger box along x-axis for shiting atomic positions along x-axis\n",
    "Ly = 10\n",
    "Lz = 10\n",
    "Nx = 200 \n",
    "Ny = 100\n",
    "Nz = 100\n",
    "r, dV, V = get_rgrid(Nx, Ny, Nz, Lx, Ly, Lz)\n",
    "##\n",
    "d = 2.683943361398497 #0.142 nm\n",
    "RcA = np.array([d/2.0, 0.0, 0.0])\n",
    "RcB = np.array([-d/2.0, 0.0, 0.0])\n",
    "##\n",
    "Z_list = [4.000, 4.005, 4.010, 4.015, 4.020, 4.025, 4.030]\n",
    "d_list = [0.0,  0.4, 0.8, 1.2, 1.6, 2.0, 2.4, 2.60, 2.683943361398497, 2.70, 2.8, 3.2, 3.6, 4.0, 4.4, 4.8, 5.2]\n",
    "ovlp_list = []\n",
    "for Z in Z_list:\n",
    "    print('The effective charge: Z=', Z)\n",
    "    phiA = get_2pz(r, RcA, Z)\n",
    "    #print('max, min = ', np.amax(np.abs(phiA)), np.amin(np.abs(phiA)))\n",
    "    phiB = get_2pz(r, RcB, Z)\n",
    "    #print('max, min = ', np.amax(np.abs(phiB)), np.amin(np.abs(phiB)))\n",
    "\n",
    "    print('norm, ovlp', np.sum(phiA*phiA)*dV, np.sum(phiA*phiB)*dV)\n",
    "    ovlp_list.append(np.sum(phiA*phiB)*dV)\n",
    "plt.figure()\n",
    "plt.plot(np.array(Z_list),np.array(ovlp_list),'o-')\n",
    "plt.grid()\n",
    "plt.show()"
   ]
  },
  {
   "cell_type": "markdown",
   "metadata": {
    "id": "dh2gEMUINum5"
   },
   "source": [
    "# Grpahene lattice structure\n",
    "The lattice vector $\\mathbf{a}_1, \\mathbf{a}_2$ are given as \n",
    "$$\n",
    "\\mathbf{a}_1 = a\\left(\\frac{\\sqrt{3}}{2}\\hat{x} + \\frac{1}{2}\\hat{y}\\right), \\\\\n",
    "\\mathbf{a}_2 = a\\left(\\frac{\\sqrt{3}}{2}\\hat{x} - \\frac{1}{2}\\hat{y}\\right)\n",
    "$$\n",
    "\n",
    "The distance of two Carbon atoms are given by $d = \\frac{\\sqrt{3}}{3}a$.\n",
    "\n",
    "Thus, $d=$ 0.142 nm for $a=$ 0.246 nm, 2.684 Bohr, and 4.6485 Bohr respectively.\n"
   ]
  },
  {
   "cell_type": "code",
   "execution_count": null,
   "metadata": {
    "colab": {
     "background_save": true
    },
    "id": "04riRjSGQx2B"
   },
   "outputs": [],
   "source": [
    "print(0.246/Bohr2nm)\n",
    "print(0.246*np.sqrt(3.0)/3.0/Bohr2nm)\n"
   ]
  },
  {
   "cell_type": "code",
   "execution_count": null,
   "metadata": {
    "colab": {
     "background_save": true
    },
    "id": "Yrb_9UBVSKRk"
   },
   "outputs": [],
   "source": []
  }
 ],
 "metadata": {
  "colab": {
   "name": "",
   "version": ""
  },
  "kernelspec": {
   "display_name": "Python 3",
   "language": "python",
   "name": "python3"
  },
  "language_info": {
   "codemirror_mode": {
    "name": "ipython",
    "version": 3
   },
   "file_extension": ".py",
   "mimetype": "text/x-python",
   "name": "python",
   "nbconvert_exporter": "python",
   "pygments_lexer": "ipython3",
   "version": "3.8.8"
  }
 },
 "nbformat": 4,
 "nbformat_minor": 1
}
