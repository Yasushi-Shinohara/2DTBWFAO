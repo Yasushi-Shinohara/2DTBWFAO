{
 "cells": [
  {
   "cell_type": "code",
   "execution_count": 1,
   "metadata": {
    "executionInfo": {
     "elapsed": 381,
     "status": "ok",
     "timestamp": 1678344612127,
     "user": {
      "displayName": "Yasushi Shinohara",
      "userId": "05093475804502242028"
     },
     "user_tz": -540
    },
    "id": "bd2vC1AAFsgM"
   },
   "outputs": [],
   "source": [
    "%matplotlib inline\n",
    "from modules.constants import *\n",
    "import matplotlib.pyplot as plt"
   ]
  },
  {
   "cell_type": "markdown",
   "metadata": {
    "id": "mNFNwErko5DI"
   },
   "source": [
    "# Hydrogen-like atom\n",
    "Ref: https://en.wikipedia.org/wiki/Hydrogen-like_atom\n",
    "\n",
    "$$\n",
    "\\psi_{nlm} (\\mathbf{r}) = R_{nl}(r) Y_{lm} (\\theta, \\phi) \\\\\n",
    "R_{nl}(r) = -\\sqrt{\\left(\\frac{2Z}{na_B}\\right)^3 \\frac{(n-l-1)!}{2n(n+l)!}}e^{-Zr/na_B} \\left(\\frac{2Z r}{na_B} \\right)^lL_{n-l-1}^{(2l+1)}\\left(\\frac{2Z r}{n a_B}\\right) \n",
    "$$\n",
    "where $a_\\mu$ in the ref. is replaced by the Borh radius $a_B$ within an assumption that nucleus mass is much larger than electron mass.\n",
    "\n",
    "## The spherical harmonics, Y_{lm} for small (l,m)\n",
    "Ref2: https://en.wikipedia.org/wiki/Spherical_harmonics\n",
    "$$\n",
    "Y_{00} = \\frac{1}{2} \\sqrt{\\frac{1}{\\pi}} \\\\\n",
    "Y_{1-1} = \\frac{1}{2} \\sqrt{\\frac{3}{2\\pi}}\\sin \\theta e^{-i \\varphi} \\\\\n",
    "Y_{10} = \\frac{1}{2} \\sqrt{\\frac{3}{\\pi}} \\cos \\theta \\\\\n",
    "Y_{111} = \\frac{-1}{2} \\sqrt{\\frac{3}{2\\pi}}\\sin \\theta e^{+i \\varphi}\n",
    "$$\n",
    "\n",
    "## The generalized Laguerre polynomials, L_{n-l-1}^{(2l+1)} for small (n,l)\n",
    "Ref3: https://en.wikipedia.org/wiki/Laguerre_polynomials#Generalized_Laguerre_polynomials\n",
    "\n",
    "$$\n",
    "L_0^{(\\alpha)}(x) = 1 \\\\\n",
    "L_1^{(\\alpha)}(x) = -x + (\\alpha + 1) \\\\\n",
    "L_2^{(\\alpha)}(x) = \\frac{x^2}{2}-(\\alpha + 2) x + \\frac{(\\alpha + 1)(\\alpha + 2)}{2} \\\\\n",
    "$$\n",
    "\n"
   ]
  },
  {
   "cell_type": "markdown",
   "metadata": {
    "id": "wOI590xnq3-f"
   },
   "source": [
    "\n",
    "## 1s (n=1, l=0, m=0)\n",
    "\n",
    "$$\n",
    "\\psi_{100} (\\mathbf{r})\n",
    "=\n",
    "-\\sqrt{\\left(\\frac{2Z}{a_B}\\right)^3 \\frac{1}{2}} e^{-Zr/a_B} \\frac{1}{2} \\sqrt{\\frac{1}{\\pi}}\n",
    "=\n",
    "-\\sqrt{\\frac{Z^3}{\\pi}} e^{-Zr}\n",
    "$$\n",
    "\n",
    "## 2s (n=2, l=0, m=0)\n",
    "\n",
    "$$\n",
    "\\psi_{200} (\\mathbf{r})\n",
    "=\n",
    "$$\n",
    "\n",
    "## 2pz (n=2, l=1, m=0)\n",
    "\n",
    "$$\n",
    "\\psi_{210} (\\mathbf{r})\n",
    "=\n",
    "-\\sqrt{\\left(\\frac{2Z}{2a_B} \\right)^3 \\frac{1}{2\\times2\\times3!}} e^{-Zr/2a_B} \\left(\\frac{Zr}{a_B} \\right) \\frac{1}{2} \\sqrt{\\frac{3}{\\pi}} \\cos \\theta\n",
    "=\n",
    "-\\sqrt{\\frac{Z^3}{2^5 \\pi}} e^{-Zr/2} Zr  \\cos \\theta\n",
    "$$"
   ]
  },
  {
   "cell_type": "markdown",
   "metadata": {
    "id": "GyVWzgbVMIA3"
   },
   "source": [
    "# 2pz atomic orbital\n",
    "$$\n",
    "\\phi_{2p_z}(r) \\propto Zr \\cos \\theta \\exp\\left(- \\frac{Z}{2}r \\right)\n",
    "$$"
   ]
  },
  {
   "cell_type": "code",
   "execution_count": 2,
   "metadata": {
    "executionInfo": {
     "elapsed": 3,
     "status": "ok",
     "timestamp": 1678344612128,
     "user": {
      "displayName": "Yasushi Shinohara",
      "userId": "05093475804502242028"
     },
     "user_tz": -540
    },
    "id": "SnIMwbU_Mcob"
   },
   "outputs": [],
   "source": [
    "# Get 2pz orbital for spatial cordinate `r`\n",
    "def get_2pz(r, Rc, Z, epsilon = 1.0e-8):\n",
    "    #Rc is a three-dimensional vector to specify atomic position in real-space\n",
    "    #Z is effective nuclear charge, non-integral number is allowed\n",
    "    #epsilon is just introduced to avoid zero-division\n",
    "    rad = np.sqrt((r[:,0] - Rc[0])**2+(r[:,1] - Rc[1])**2+(r[:,2] - Rc[2])**2 + epsilon**2)\n",
    "    costheta = (r[:,2] - Rc[2])/rad[:]\n",
    "    phi = Z*rad*costheta*np.exp(-0.5*Z*rad)*np.sqrt(Z**3/2.0**5/pi)\n",
    "    return phi\n",
    "# Get 1s orbital for spatial cordinate `r`\n",
    "def get_1s(r, Rc, Z, epsilon = 1.0e-8):\n",
    "    #Rc is a three-dimensional vector to specify atomic position in real-space\n",
    "    #Z is effective nuclear charge, non-integral number is allowed\n",
    "    #epsilon is just introduced to avoid zero-division\n",
    "    rad = np.sqrt((r[:,0] - Rc[0])**2+(r[:,1] - Rc[1])**2+(r[:,2] - Rc[2])**2 + epsilon**2)\n",
    "    costheta = (r[:,2] - Rc[2])/rad[:]\n",
    "    phi = np.exp(-Z*rad)*np.sqrt(Z**3/pi)\n",
    "    return phi\n",
    "# Generate spatial cordinate \n",
    "def get_rgrid(Nx, Ny, Nz, Lx, Ly, Lz):\n",
    "    # Lx, Ly, Lz are sizes of spatial box along x,y, and z axes.\n",
    "    # `r` is generated in a box [(-Lx/2, Lx/2), (-Ly/2, Ly/2), (-Lz/2, Lz/2)], namely the center of box is placed in the origin (0,0,0)\n",
    "    # Nx, Ny, Nz are number of spatial uniform grid along x,y, and z zxes\n",
    "    dx = Lx/Nx #x-grid size\n",
    "    dy = Ly/Ny #y-grid size\n",
    "    dz = Lz/Nz #z-grid size\n",
    "    dV = dx*dy*dz #Volume of the discretized box\n",
    "    V = Lx*Ly*Lz #Volume\n",
    "    r = np.zeros([Nx*Ny*Nz,3],dtype = \"float64\")\n",
    "    n = 0\n",
    "    for ix in range(Nx):\n",
    "        for iy in range(Ny):\n",
    "            for iz in range(Nz):\n",
    "                r[n, 0] = -Lx/2.0 + ix*dx\n",
    "                r[n, 1] = -Ly/2.0 + iy*dy\n",
    "                r[n, 2] = -Lz/2.0 + iz*dz\n",
    "                n += 1\n",
    "    return r, dV, V"
   ]
  },
  {
   "cell_type": "code",
   "execution_count": 3,
   "metadata": {
    "colab": {
     "base_uri": "https://localhost:8080/"
    },
    "executionInfo": {
     "elapsed": 304,
     "status": "ok",
     "timestamp": 1678344612429,
     "user": {
      "displayName": "Yasushi Shinohara",
      "userId": "05093475804502242028"
     },
     "user_tz": -540
    },
    "id": "eBL4bzY6XQiM",
    "outputId": "5236d17e-2347-4428-d2d2-11193d174c62"
   },
   "outputs": [
    {
     "name": "stdout",
     "output_type": "stream",
     "text": [
      "[0.2 0.2 0.2]\n",
      "max, min =  4.513516487841387 1.0404404649956217e-12\n",
      "The norm of 1s orbital 1.0042746603682833\n",
      "max, min =  0.5870506526949596 3.684226416218415e-21\n",
      "The norm of 2pz orbital 0.9998860843090343\n"
     ]
    }
   ],
   "source": [
    "# Check of nomarlization or 1s, and 2pz orbitals\n",
    "## Generate spatial grids\n",
    "Lx = 8\n",
    "Ly = 8\n",
    "Lz = 8\n",
    "Nx = 80\n",
    "Ny = 80\n",
    "Nz = 80\n",
    "r, dV, V = get_rgrid(Nx, Ny, Nz, Lx, Ly, Lz)\n",
    "## Determine atomic position and the effective charge\n",
    "Rc = np.array([0.2, 0.2, 0.2])\n",
    "print(Rc)\n",
    "Z = 4.0\n",
    "## 1s\n",
    "phi = get_1s(r, Rc, Z)\n",
    "print('max, min = ', np.amax(np.abs(phi)), np.amin(np.abs(phi)))\n",
    "print('The norm of 1s orbital', np.sum(phi*phi)*dV)\n",
    "## 2pz\n",
    "phi = get_2pz(r, Rc, Z)\n",
    "print('max, min = ', np.amax(np.abs(phi)), np.amin(np.abs(phi)))\n",
    "print('The norm of 2pz orbital', np.sum(phi*phi)*dV)\n"
   ]
  },
  {
   "cell_type": "code",
   "execution_count": 4,
   "metadata": {
    "colab": {
     "base_uri": "https://localhost:8080/"
    },
    "executionInfo": {
     "elapsed": 894,
     "status": "ok",
     "timestamp": 1678344613321,
     "user": {
      "displayName": "Yasushi Shinohara",
      "userId": "05093475804502242028"
     },
     "user_tz": -540
    },
    "id": "cu9Snqxv0jvm",
    "outputId": "d7993f40-601e-4c4b-d6c2-0e0906f2938b"
   },
   "outputs": [
    {
     "name": "stdout",
     "output_type": "stream",
     "text": [
      "max, min =  0.5870506526949595 0.0\n",
      "max, min =  0.5870506526949595 0.0\n",
      "The ovelap integral 0.9999200005059149\n"
     ]
    }
   ],
   "source": [
    "# Test code for overlap integral \\int d^3r phi_A (r) phi_B(r)\n",
    "##\n",
    "Z = 4.0\n",
    "##\n",
    "Lx = 12 #Larger box along x-axis for shiting atomic positions along x-axis\n",
    "Ly = 8\n",
    "Lz = 8\n",
    "Nx = 120 \n",
    "Ny = 80\n",
    "Nz = 80\n",
    "r, dV, V = get_rgrid(Nx, Ny, Nz, Lx, Ly, Lz)\n",
    "##\n",
    "d = 0.0 # Seperation of the two atomic orbitals\n",
    "RcA = np.array([d/2.0, 0.0, 0.0])\n",
    "RcB = np.array([-d/2.0, 0.0, 0.0])\n",
    "phiA = get_2pz(r, RcA, Z)\n",
    "print('max, min = ', np.amax(np.abs(phiA)), np.amin(np.abs(phiA)))\n",
    "phiB = get_2pz(r, RcB, Z)\n",
    "print('max, min = ', np.amax(np.abs(phiB)), np.amin(np.abs(phiB)))\n",
    "\n",
    "print('The ovelap integral', np.sum(phiA*phiB)*dV)"
   ]
  },
  {
   "cell_type": "code",
   "execution_count": 5,
   "metadata": {
    "colab": {
     "base_uri": "https://localhost:8080/",
     "height": 1000
    },
    "executionInfo": {
     "elapsed": 7975,
     "status": "ok",
     "timestamp": 1678344621293,
     "user": {
      "displayName": "Yasushi Shinohara",
      "userId": "05093475804502242028"
     },
     "user_tz": -540
    },
    "id": "KvBYJWxW8dVO",
    "outputId": "0a9d8e0a-97a7-431e-fd7b-0e289e4f4c97"
   },
   "outputs": [
    {
     "name": "stdout",
     "output_type": "stream",
     "text": [
      "The seperation: d = 0.0\n",
      "norm, ovlp 0.9999967766723578 0.9999967766723578\n",
      "The seperation: d = 0.4\n",
      "norm, ovlp 0.9999967766723578 0.9391545494680033\n",
      "The seperation: d = 0.8\n",
      "norm, ovlp 0.9999967766723556 0.7868015461693668\n",
      "The seperation: d = 1.2\n",
      "norm, ovlp 0.9999967766723533 0.6010584592438053\n",
      "The seperation: d = 1.6\n",
      "norm, ovlp 0.9999967766723474 0.4272074703492132\n",
      "The seperation: d = 2.0\n",
      "norm, ovlp 0.9999967766723339 0.28694310298179787\n",
      "The seperation: d = 2.4\n",
      "norm, ovlp 0.9999967766723046 0.18425252321588656\n",
      "The seperation: d = 2.6\n",
      "norm, ovlp 0.9999967766722798 0.1455798956830043\n",
      "The seperation: d = 2.683943361398497\n",
      "norm, ovlp 0.9999966642751176 0.13154601254519507\n",
      "The seperation: d = 2.7\n",
      "norm, ovlp 0.9999966568270785 0.128999339894677\n",
      "The seperation: d = 2.8\n",
      "norm, ovlp 0.9999967766722438 0.11408413267656659\n",
      "The seperation: d = 3.2\n",
      "norm, ovlp 0.9999967766721132 0.06855517346803121\n",
      "The seperation: d = 3.6\n",
      "norm, ovlp 0.9999967766718348 0.04017975451283477\n",
      "The seperation: d = 4.0\n",
      "norm, ovlp 0.9999967766712433 0.023056765500374096\n",
      "The seperation: d = 4.4\n",
      "norm, ovlp 0.9999967766699871 0.012993783580106761\n",
      "The seperation: d = 4.8\n",
      "norm, ovlp 0.9999967766673226 0.0072090827143091235\n",
      "The seperation: d = 5.2\n",
      "norm, ovlp 0.999996776661677 0.003945431353561849\n"
     ]
    },
    {
     "data": {
      "image/png": "[encoded data removed]",
      "text/plain": [
       "<Figure size 432x288 with 1 Axes>"
      ]
     },
     "metadata": {
      "needs_background": "light"
     },
     "output_type": "display_data"
    },
    {
     "data": {
      "image/png": "[encoded data removed]",
      "text/plain": [
       "<Figure size 432x288 with 1 Axes>"
      ]
     },
     "metadata": {
      "needs_background": "light"
     },
     "output_type": "display_data"
    }
   ],
   "source": [
    "# Overlap integral as a function of the seperation for 2pz\n",
    "##\n",
    "Z = 4.00\n",
    "##\n",
    "Lx = 20 #Larger box along x-axis for shiting atomic positions along x-axis\n",
    "Ly = 10\n",
    "Lz = 10\n",
    "Nx = 200 \n",
    "Ny = 100\n",
    "Nz = 100\n",
    "r, dV, V = get_rgrid(Nx, Ny, Nz, Lx, Ly, Lz)\n",
    "##\n",
    "d_list = [0.0,  0.4, 0.8, 1.2, 1.6, 2.0, 2.4, 2.60, 2.683943361398497, 2.70, 2.8, 3.2, 3.6, 4.0, 4.4, 4.8, 5.2]\n",
    "ovlp_list = []\n",
    "for d in d_list:\n",
    "    print('The seperation: d =', d)\n",
    "    RcA = np.array([d/2.0, 0.0, 0.0])\n",
    "    RcB = np.array([-d/2.0, 0.0, 0.0])\n",
    "    phiA = get_2pz(r, RcA, Z)\n",
    "    #print('max, min = ', np.amax(np.abs(phiA)), np.amin(np.abs(phiA)))\n",
    "    phiB = get_2pz(r, RcB, Z)\n",
    "    #print('max, min = ', np.amax(np.abs(phiB)), np.amin(np.abs(phiB)))\n",
    "\n",
    "    print('norm, ovlp', np.sum(phiA*phiA)*dV, np.sum(phiA*phiB)*dV)\n",
    "    ovlp_list.append(np.sum(phiA*phiB)*dV)\n",
    "plt.figure()\n",
    "plt.plot(np.array(d_list),np.array(ovlp_list))\n",
    "plt.grid()\n",
    "plt.show()\n",
    "#\n",
    "plt.figure()\n",
    "plt.yscale('log')\n",
    "plt.plot(np.array(d_list),np.array(ovlp_list))\n",
    "plt.grid()\n",
    "plt.show()"
   ]
  },
  {
   "cell_type": "code",
   "execution_count": 6,
   "metadata": {
    "colab": {
     "base_uri": "https://localhost:8080/",
     "height": 1000
    },
    "executionInfo": {
     "elapsed": 10751,
     "status": "ok",
     "timestamp": 1678344632042,
     "user": {
      "displayName": "Yasushi Shinohara",
      "userId": "05093475804502242028"
     },
     "user_tz": -540
    },
    "id": "DkrAPL01DgGi",
    "outputId": "fe6878f7-7ff1-4c05-e386-28e450bee0b0"
   },
   "outputs": [
    {
     "name": "stdout",
     "output_type": "stream",
     "text": [
      "The seperation: d = 0.0\n",
      "norm, ovlp 0.9999969807547969 0.9999969807547969\n",
      "The seperation: d = 0.4\n",
      "norm, ovlp 0.9999969807547968 0.9385746149513015\n",
      "The seperation: d = 0.8\n",
      "norm, ovlp 0.9999969807547949 0.7850152945155505\n",
      "The seperation: d = 1.2\n",
      "norm, ovlp 0.999996980754793 0.598280362908228\n",
      "The seperation: d = 1.6\n",
      "norm, ovlp 0.9999969807547877 0.42403683542308196\n",
      "The seperation: d = 2.0\n",
      "norm, ovlp 0.999996980754777 0.2839270367387592\n",
      "The seperation: d = 2.4\n",
      "norm, ovlp 0.9999969807547519 0.18171136501296697\n",
      "The seperation: d = 2.6\n",
      "norm, ovlp 0.9999969807547303 0.14332580216424876\n",
      "The seperation: d = 2.683943361398497\n",
      "norm, ovlp 0.9999968649627153 0.1294147249071562\n",
      "The seperation: d = 2.7\n",
      "norm, ovlp 0.9999968572897168 0.1268915243691929\n",
      "The seperation: d = 2.8\n",
      "norm, ovlp 0.9999969807546998 0.11212166001228241\n",
      "The seperation: d = 3.2\n",
      "norm, ovlp 0.9999969807545883 0.06713597217313498\n",
      "The seperation: d = 3.6\n",
      "norm, ovlp 0.9999969807543485 0.039204850092302956\n",
      "The seperation: d = 4.0\n",
      "norm, ovlp 0.9999969807538369 0.02241419034619443\n",
      "The seperation: d = 4.4\n",
      "norm, ovlp 0.9999969807527469 0.01258440877926038\n",
      "The seperation: d = 4.8\n",
      "norm, ovlp 0.9999969807504256 0.006955593686888118\n",
      "The seperation: d = 5.2\n",
      "norm, ovlp 0.9999969807454888 0.003792217733343279\n"
     ]
    },
    {
     "data": {
      "image/png": "[encoded data removed]",
      "text/plain": [
       "<Figure size 432x288 with 1 Axes>"
      ]
     },
     "metadata": {
      "needs_background": "light"
     },
     "output_type": "display_data"
    },
    {
     "data": {
      "image/png": "[encoded data removed]",
      "text/plain": [
       "<Figure size 432x288 with 1 Axes>"
      ]
     },
     "metadata": {
      "needs_background": "light"
     },
     "output_type": "display_data"
    }
   ],
   "source": [
    "# Overlap integral as a function of the seperation for 2pz\n",
    "##\n",
    "Z = 4.02\n",
    "##\n",
    "Lx = 20 #Larger box along x-axis for shiting atomic positions along x-axis\n",
    "Ly = 10\n",
    "Lz = 10\n",
    "Nx = 200 \n",
    "Ny = 100\n",
    "Nz = 100\n",
    "r, dV, V = get_rgrid(Nx, Ny, Nz, Lx, Ly, Lz)\n",
    "##\n",
    "d_list = [0.0,  0.4, 0.8, 1.2, 1.6, 2.0, 2.4, 2.60, 2.683943361398497, 2.70, 2.8, 3.2, 3.6, 4.0, 4.4, 4.8, 5.2]\n",
    "ovlp_list = []\n",
    "for d in d_list:\n",
    "    print('The seperation: d =', d)\n",
    "    RcA = np.array([d/2.0, 0.0, 0.0])\n",
    "    RcB = np.array([-d/2.0, 0.0, 0.0])\n",
    "    phiA = get_2pz(r, RcA, Z)\n",
    "    #print('max, min = ', np.amax(np.abs(phiA)), np.amin(np.abs(phiA)))\n",
    "    phiB = get_2pz(r, RcB, Z)\n",
    "    #print('max, min = ', np.amax(np.abs(phiB)), np.amin(np.abs(phiB)))\n",
    "\n",
    "    print('norm, ovlp', np.sum(phiA*phiA)*dV, np.sum(phiA*phiB)*dV)\n",
    "    ovlp_list.append(np.sum(phiA*phiB)*dV)\n",
    "plt.figure()\n",
    "plt.plot(np.array(d_list),np.array(ovlp_list))\n",
    "plt.grid()\n",
    "plt.show()\n",
    "#\n",
    "plt.figure()\n",
    "plt.yscale('log')\n",
    "plt.plot(np.array(d_list),np.array(ovlp_list))\n",
    "plt.grid()\n",
    "plt.show()"
   ]
  },
  {
   "cell_type": "code",
   "execution_count": 7,
   "metadata": {
    "colab": {
     "base_uri": "https://localhost:8080/",
     "height": 519
    },
    "executionInfo": {
     "elapsed": 3746,
     "status": "ok",
     "timestamp": 1678344635784,
     "user": {
      "displayName": "Yasushi Shinohara",
      "userId": "05093475804502242028"
     },
     "user_tz": -540
    },
    "id": "WdyyS7adGlnP",
    "outputId": "34e79124-0026-4ef7-b210-5662a318608c"
   },
   "outputs": [
    {
     "name": "stdout",
     "output_type": "stream",
     "text": [
      "The effective charge: Z= 4.0\n",
      "norm, ovlp 0.9999966642751176 0.13154601254519507\n",
      "The effective charge: Z= 4.005\n",
      "norm, ovlp 0.9999967162734822 0.13101035723034776\n",
      "The effective charge: Z= 4.01\n",
      "norm, ovlp 0.9999967670375947 0.13047659410551443\n",
      "The effective charge: Z= 4.015\n",
      "norm, ovlp 0.9999968165924984 0.12994471829090395\n",
      "The effective charge: Z= 4.02\n",
      "norm, ovlp 0.9999968649627153 0.1294147249071562\n",
      "The effective charge: Z= 4.025\n",
      "norm, ovlp 0.9999969121722561 0.12888660907545002\n",
      "The effective charge: Z= 4.03\n",
      "norm, ovlp 0.9999969582446289 0.1283603659176088\n"
     ]
    },
    {
     "data": {
      "image/png": "[encoded data removed]",
      "text/plain": [
       "<Figure size 432x288 with 1 Axes>"
      ]
     },
     "metadata": {
      "needs_background": "light"
     },
     "output_type": "display_data"
    }
   ],
   "source": [
    "# Overlap integral as a function of the effective charge\n",
    "##\n",
    "Lx = 20 #Larger box along x-axis for shiting atomic positions along x-axis\n",
    "Ly = 10\n",
    "Lz = 10\n",
    "Nx = 200 \n",
    "Ny = 100\n",
    "Nz = 100\n",
    "r, dV, V = get_rgrid(Nx, Ny, Nz, Lx, Ly, Lz)\n",
    "##\n",
    "d = 2.683943361398497 #0.142 nm\n",
    "RcA = np.array([d/2.0, 0.0, 0.0])\n",
    "RcB = np.array([-d/2.0, 0.0, 0.0])\n",
    "##\n",
    "Z_list = [4.000, 4.005, 4.010, 4.015, 4.020, 4.025, 4.030]\n",
    "d_list = [0.0,  0.4, 0.8, 1.2, 1.6, 2.0, 2.4, 2.60, 2.683943361398497, 2.70, 2.8, 3.2, 3.6, 4.0, 4.4, 4.8, 5.2]\n",
    "ovlp_list = []\n",
    "for Z in Z_list:\n",
    "    print('The effective charge: Z=', Z)\n",
    "    phiA = get_2pz(r, RcA, Z)\n",
    "    #print('max, min = ', np.amax(np.abs(phiA)), np.amin(np.abs(phiA)))\n",
    "    phiB = get_2pz(r, RcB, Z)\n",
    "    #print('max, min = ', np.amax(np.abs(phiB)), np.amin(np.abs(phiB)))\n",
    "\n",
    "    print('norm, ovlp', np.sum(phiA*phiA)*dV, np.sum(phiA*phiB)*dV)\n",
    "    ovlp_list.append(np.sum(phiA*phiB)*dV)\n",
    "plt.figure()\n",
    "plt.plot(np.array(Z_list),np.array(ovlp_list),'o-')\n",
    "plt.grid()\n",
    "plt.show()"
   ]
  },
  {
   "cell_type": "markdown",
   "metadata": {
    "id": "dh2gEMUINum5"
   },
   "source": [
    "# Grpahene lattice structure\n",
    "The lattice vector $\\mathbf{a}_1, \\mathbf{a}_2$ are given as \n",
    "$$\n",
    "\\mathbf{a}_1 = a\\left(\\frac{\\sqrt{3}}{2}\\hat{x} + \\frac{1}{2}\\hat{y}\\right), \\\\\n",
    "\\mathbf{a}_2 = a\\left(\\frac{\\sqrt{3}}{2}\\hat{x} - \\frac{1}{2}\\hat{y}\\right)\n",
    "$$\n",
    "\n",
    "The distance of two Carbon atoms are given by $d = \\frac{\\sqrt{3}}{3}a$.\n",
    "\n",
    "Thus, $d=$ 0.142 nm for $a=$ 0.246 nm, 2.684 Bohr, and 4.6485 Bohr respectively.\n"
   ]
  },
  {
   "cell_type": "code",
   "execution_count": 8,
   "metadata": {
    "colab": {
     "base_uri": "https://localhost:8080/"
    },
    "executionInfo": {
     "elapsed": 8,
     "status": "ok",
     "timestamp": 1678344635785,
     "user": {
      "displayName": "Yasushi Shinohara",
      "userId": "05093475804502242028"
     },
     "user_tz": -540
    },
    "id": "04riRjSGQx2B",
    "outputId": "74aaf386-e1f9-45f7-9454-16711b930259"
   },
   "outputs": [
    {
     "name": "stdout",
     "output_type": "stream",
     "text": [
      "4.648726266579395\n",
      "2.683943361398497\n"
     ]
    }
   ],
   "source": [
    "print(0.246/Bohr2nm)\n",
    "print(0.246*np.sqrt(3.0)/3.0/Bohr2nm)\n"
   ]
  },
  {
   "cell_type": "code",
   "execution_count": null,
   "metadata": {
    "executionInfo": {
     "elapsed": 5,
     "status": "ok",
     "timestamp": 1678344635785,
     "user": {
      "displayName": "Yasushi Shinohara",
      "userId": "05093475804502242028"
     },
     "user_tz": -540
    },
    "id": "Yrb_9UBVSKRk"
   },
   "outputs": [],
   "source": []
  }
 ],
 "metadata": {
  "colab": {
   "authorship_tag": "ABX9TyOXDvsyFJ8cP3XnLID04x5t",
   "provenance": []
  },
  "kernelspec": {
   "display_name": "Python 3",
   "language": "python",
   "name": "python3"
  },
  "language_info": {
   "codemirror_mode": {
    "name": "ipython",
    "version": 3
   },
   "file_extension": ".py",
   "mimetype": "text/x-python",
   "name": "python",
   "nbconvert_exporter": "python",
   "pygments_lexer": "ipython3",
   "version": "3.8.8"
  }
 },
 "nbformat": 4,
 "nbformat_minor": 1
}
